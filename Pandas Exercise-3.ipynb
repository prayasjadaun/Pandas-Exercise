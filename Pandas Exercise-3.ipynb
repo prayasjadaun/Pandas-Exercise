{
 "cells": [
  {
   "cell_type": "markdown",
   "id": "56f1d95e-74df-4343-b299-7f225dcc9300",
   "metadata": {},
   "source": [
    "# Prayas Jadaun\n",
    "# 2301560025\n",
    "# MCA-A\n",
    "# AI & ML"
   ]
  },
  {
   "cell_type": "markdown",
   "id": "0f75f80f-bf37-4cf4-b7f8-04b6b753bd07",
   "metadata": {},
   "source": [
    "### Managing Nulls with Pandas\r\n",
    "In this notebook, we will take a look at some ways to manage nulls using Pandas DataFrames.\r\n",
    "\r\n",
    "For even more details on how to do this, check out the Panda's documentati on..!)"
   ]
  },
  {
   "cell_type": "code",
   "execution_count": 1,
   "id": "cff15a86-86f3-4188-be95-21678857b03f",
   "metadata": {},
   "outputs": [],
   "source": [
    "import pandas as pd\n",
    "from numpy import random"
   ]
  },
  {
   "cell_type": "code",
   "execution_count": 2,
   "id": "37e6369a-6644-4169-b862-ab91dae93ee9",
   "metadata": {},
   "outputs": [],
   "source": [
    "df = pd.read_csv(\"E:\\My Environment\\MCA Notes\\Assignments\\AI & ML Assignments\\Assignment(Projects)\\Pandas Exercise\\iot_example_with_nulls.csv\")"
   ]
  },
  {
   "cell_type": "markdown",
   "id": "f5760af6-52ce-4e71-93aa-94eebda68c8a",
   "metadata": {},
   "source": [
    "#### Data Quality Check"
   ]
  },
  {
   "cell_type": "code",
   "execution_count": 3,
   "id": "1344b43b-23f0-4d1b-9296-3d937e697004",
   "metadata": {},
   "outputs": [
    {
     "data": {
      "text/html": [
       "<div>\n",
       "<style scoped>\n",
       "    .dataframe tbody tr th:only-of-type {\n",
       "        vertical-align: middle;\n",
       "    }\n",
       "\n",
       "    .dataframe tbody tr th {\n",
       "        vertical-align: top;\n",
       "    }\n",
       "\n",
       "    .dataframe thead th {\n",
       "        text-align: right;\n",
       "    }\n",
       "</style>\n",
       "<table border=\"1\" class=\"dataframe\">\n",
       "  <thead>\n",
       "    <tr style=\"text-align: right;\">\n",
       "      <th></th>\n",
       "      <th>timestamp</th>\n",
       "      <th>username</th>\n",
       "      <th>temperature</th>\n",
       "      <th>heartrate</th>\n",
       "      <th>build</th>\n",
       "      <th>latest</th>\n",
       "      <th>note</th>\n",
       "    </tr>\n",
       "  </thead>\n",
       "  <tbody>\n",
       "    <tr>\n",
       "      <th>0</th>\n",
       "      <td>2017-01-01T12:00:23</td>\n",
       "      <td>michaelsmith</td>\n",
       "      <td>12.0</td>\n",
       "      <td>67</td>\n",
       "      <td>4e6a7805-8faa-2768-6ef6-eb3198b483ac</td>\n",
       "      <td>0.0</td>\n",
       "      <td>interval</td>\n",
       "    </tr>\n",
       "    <tr>\n",
       "      <th>1</th>\n",
       "      <td>2017-01-01T12:01:09</td>\n",
       "      <td>kharrison</td>\n",
       "      <td>6.0</td>\n",
       "      <td>78</td>\n",
       "      <td>7256b7b0-e502-f576-62ec-ed73533c9c84</td>\n",
       "      <td>0.0</td>\n",
       "      <td>wake</td>\n",
       "    </tr>\n",
       "    <tr>\n",
       "      <th>2</th>\n",
       "      <td>2017-01-01T12:01:34</td>\n",
       "      <td>smithadam</td>\n",
       "      <td>5.0</td>\n",
       "      <td>89</td>\n",
       "      <td>9226c94b-bb4b-a6c8-8e02-cb42b53e9c90</td>\n",
       "      <td>0.0</td>\n",
       "      <td>NaN</td>\n",
       "    </tr>\n",
       "    <tr>\n",
       "      <th>3</th>\n",
       "      <td>2017-01-01T12:02:09</td>\n",
       "      <td>eddierodriguez</td>\n",
       "      <td>28.0</td>\n",
       "      <td>76</td>\n",
       "      <td>NaN</td>\n",
       "      <td>0.0</td>\n",
       "      <td>update</td>\n",
       "    </tr>\n",
       "    <tr>\n",
       "      <th>4</th>\n",
       "      <td>2017-01-01T12:02:36</td>\n",
       "      <td>kenneth94</td>\n",
       "      <td>29.0</td>\n",
       "      <td>62</td>\n",
       "      <td>122f1c6a-403c-2221-6ed1-b5caa08f11e0</td>\n",
       "      <td>NaN</td>\n",
       "      <td>NaN</td>\n",
       "    </tr>\n",
       "  </tbody>\n",
       "</table>\n",
       "</div>"
      ],
      "text/plain": [
       "             timestamp        username  temperature  heartrate  \\\n",
       "0  2017-01-01T12:00:23    michaelsmith         12.0         67   \n",
       "1  2017-01-01T12:01:09       kharrison          6.0         78   \n",
       "2  2017-01-01T12:01:34       smithadam          5.0         89   \n",
       "3  2017-01-01T12:02:09  eddierodriguez         28.0         76   \n",
       "4  2017-01-01T12:02:36       kenneth94         29.0         62   \n",
       "\n",
       "                                  build  latest      note  \n",
       "0  4e6a7805-8faa-2768-6ef6-eb3198b483ac     0.0  interval  \n",
       "1  7256b7b0-e502-f576-62ec-ed73533c9c84     0.0      wake  \n",
       "2  9226c94b-bb4b-a6c8-8e02-cb42b53e9c90     0.0       NaN  \n",
       "3                                   NaN     0.0    update  \n",
       "4  122f1c6a-403c-2221-6ed1-b5caa08f11e0     NaN       NaN  "
      ]
     },
     "execution_count": 3,
     "metadata": {},
     "output_type": "execute_result"
    }
   ],
   "source": [
    "df.head()"
   ]
  },
  {
   "cell_type": "code",
   "execution_count": 4,
   "id": "b74d4fbe-6771-4adf-8d3a-0d801190e1f8",
   "metadata": {},
   "outputs": [
    {
     "data": {
      "text/plain": [
       "timestamp       object\n",
       "username        object\n",
       "temperature    float64\n",
       "heartrate        int64\n",
       "build           object\n",
       "latest         float64\n",
       "note            object\n",
       "dtype: object"
      ]
     },
     "execution_count": 4,
     "metadata": {},
     "output_type": "execute_result"
    }
   ],
   "source": [
    "df.dtypes"
   ]
  },
  {
   "cell_type": "code",
   "execution_count": 5,
   "id": "fbe9a9e1-e082-4cd6-9b9e-563bd8802e43",
   "metadata": {},
   "outputs": [
    {
     "data": {
      "text/plain": [
       "note\n",
       "wake        16496\n",
       "user        16416\n",
       "interval    16274\n",
       "sleep       16226\n",
       "update      16213\n",
       "test        16068\n",
       "Name: count, dtype: int64"
      ]
     },
     "execution_count": 5,
     "metadata": {},
     "output_type": "execute_result"
    }
   ],
   "source": [
    "df.note.value_counts()"
   ]
  },
  {
   "cell_type": "markdown",
   "id": "60f70bf0-f3fa-4ea6-94a5-98cc27bb3c72",
   "metadata": {},
   "source": [
    "#### Let's remove all null values (including the note: n/a)"
   ]
  },
  {
   "cell_type": "code",
   "execution_count": 6,
   "id": "95590a70-a1ca-43c4-98aa-0694b2c22aa5",
   "metadata": {},
   "outputs": [],
   "source": [
    "df = pd.read_csv(\"E:\\My Environment\\MCA Notes\\Assignments\\AI & ML Assignments\\Assignment(Projects)\\Pandas Exercise\\iot_example_with_nulls.csv\")"
   ]
  },
  {
   "cell_type": "markdown",
   "id": "19134332-8fb2-4ffd-9863-bd1c6d03da63",
   "metadata": {},
   "source": [
    "#### Test to see if we can use dropna"
   ]
  },
  {
   "cell_type": "code",
   "execution_count": 7,
   "id": "34672fc4-1ae6-49b6-813b-e5403a338508",
   "metadata": {},
   "outputs": [
    {
     "data": {
      "text/plain": [
       "(146397, 7)"
      ]
     },
     "execution_count": 7,
     "metadata": {},
     "output_type": "execute_result"
    }
   ],
   "source": [
    "df.shape"
   ]
  },
  {
   "cell_type": "code",
   "execution_count": 8,
   "id": "efc4dbc5-366b-4ab2-9dc7-8ba5dd97ad26",
   "metadata": {},
   "outputs": [
    {
     "data": {
      "text/plain": [
       "(46116, 7)"
      ]
     },
     "execution_count": 8,
     "metadata": {},
     "output_type": "execute_result"
    }
   ],
   "source": [
    "df.dropna().shape"
   ]
  },
  {
   "cell_type": "code",
   "execution_count": 9,
   "id": "ce29cea3-da5a-4735-8e45-eb62927145ad",
   "metadata": {},
   "outputs": [
    {
     "data": {
      "text/plain": [
       "(146397, 7)"
      ]
     },
     "execution_count": 9,
     "metadata": {},
     "output_type": "execute_result"
    }
   ],
   "source": [
    "df.dropna(how='all', axis=1).shape"
   ]
  },
  {
   "cell_type": "markdown",
   "id": "da055daa-a422-4dd4-925e-c014b29cc892",
   "metadata": {},
   "source": [
    "#### Test to see if we can drop columns"
   ]
  },
  {
   "cell_type": "code",
   "execution_count": 10,
   "id": "fe6b68d1-fe6a-414d-8b83-336a4032342b",
   "metadata": {},
   "outputs": [],
   "source": [
    "my_columns = list(df.columns)"
   ]
  },
  {
   "cell_type": "code",
   "execution_count": 11,
   "id": "d48c753b-6186-44d8-80e9-7094840561fa",
   "metadata": {},
   "outputs": [
    {
     "data": {
      "text/plain": [
       "['timestamp',\n",
       " 'username',\n",
       " 'temperature',\n",
       " 'heartrate',\n",
       " 'build',\n",
       " 'latest',\n",
       " 'note']"
      ]
     },
     "execution_count": 11,
     "metadata": {},
     "output_type": "execute_result"
    }
   ],
   "source": [
    "my_columns"
   ]
  },
  {
   "cell_type": "code",
   "execution_count": 12,
   "id": "20fd8122-8b01-4d87-87f6-a980bd73034e",
   "metadata": {},
   "outputs": [
    {
     "data": {
      "text/plain": [
       "['timestamp', 'username', 'heartrate']"
      ]
     },
     "execution_count": 12,
     "metadata": {},
     "output_type": "execute_result"
    }
   ],
   "source": [
    "list(df.dropna(thresh=int(df.shape[0] * .9), axis=1).columns)"
   ]
  },
  {
   "cell_type": "markdown",
   "id": "058c6605-f47f-4508-8fcc-56d20dcf9adb",
   "metadata": {},
   "source": [
    "#### I want to find all columns that have missing data"
   ]
  },
  {
   "cell_type": "code",
   "execution_count": 13,
   "id": "9c833cdf-6402-4eb3-9be4-7777ee02bb25",
   "metadata": {},
   "outputs": [],
   "source": [
    "missing_info = list(df.columns[df.isnull().any()])"
   ]
  },
  {
   "cell_type": "code",
   "execution_count": 14,
   "id": "fd160b53-674d-4ef1-b3db-467b4462ec97",
   "metadata": {},
   "outputs": [
    {
     "data": {
      "text/plain": [
       "['temperature', 'build', 'latest', 'note']"
      ]
     },
     "execution_count": 14,
     "metadata": {},
     "output_type": "execute_result"
    }
   ],
   "source": [
    "missing_info"
   ]
  },
  {
   "cell_type": "code",
   "execution_count": 15,
   "id": "38bd4aa4-1771-44d9-ad44-2b6c5eed33d3",
   "metadata": {},
   "outputs": [
    {
     "name": "stdout",
     "output_type": "stream",
     "text": [
      "number missing for column temperature: 32357\n",
      "number missing for column build: 32350\n",
      "number missing for column latest: 32298\n",
      "number missing for column note: 48704\n"
     ]
    }
   ],
   "source": [
    "for col in missing_info:\n",
    "    num_missing = df[df[col].isnull() == True].shape[0]\n",
    "    print('number missing for column {}: {}'.format(col, \n",
    "                                                    num_missing))"
   ]
  },
  {
   "cell_type": "markdown",
   "id": "755185bf-45e2-41a2-831b-ce7c79f296ae",
   "metadata": {},
   "source": [
    "#### Can I easily substitute majority values in for missing data?"
   ]
  },
  {
   "cell_type": "code",
   "execution_count": 16,
   "id": "8693580c-3d89-45c4-9768-7b798dd4d903",
   "metadata": {},
   "outputs": [
    {
     "data": {
      "text/plain": [
       "note\n",
       "wake        16496\n",
       "user        16416\n",
       "interval    16274\n",
       "sleep       16226\n",
       "update      16213\n",
       "test        16068\n",
       "Name: count, dtype: int64"
      ]
     },
     "execution_count": 16,
     "metadata": {},
     "output_type": "execute_result"
    }
   ],
   "source": [
    "df.note.value_counts()"
   ]
  },
  {
   "cell_type": "code",
   "execution_count": 17,
   "id": "5173c9a4-b1cd-497d-a78e-0bd22b98d34d",
   "metadata": {},
   "outputs": [
    {
     "data": {
      "text/plain": [
       "build\n",
       "4e6a7805-8faa-2768-6ef6-eb3198b483ac    1\n",
       "12aefc6b-272c-751e-6117-134ee73e2649    1\n",
       "fd4049c3-2297-14ac-a27e-6da57129dd10    1\n",
       "0bcfab8f-bc25-3f8f-8585-0614e1555fd1    1\n",
       "b0de05dd-2860-abbb-8be6-f5c0e30ca063    1\n",
       "Name: count, dtype: int64"
      ]
     },
     "execution_count": 17,
     "metadata": {},
     "output_type": "execute_result"
    }
   ],
   "source": [
    "df.build.value_counts().head()"
   ]
  },
  {
   "cell_type": "code",
   "execution_count": 18,
   "id": "fd7674d5-6239-4dfd-85e2-79a9df593ce2",
   "metadata": {},
   "outputs": [
    {
     "data": {
      "text/plain": [
       "latest\n",
       "0.0    75735\n",
       "1.0    38364\n",
       "Name: count, dtype: int64"
      ]
     },
     "execution_count": 18,
     "metadata": {},
     "output_type": "execute_result"
    }
   ],
   "source": [
    "df.latest.value_counts()"
   ]
  },
  {
   "cell_type": "code",
   "execution_count": 19,
   "id": "757010a4-f9f8-47de-b337-bf864a26ffa1",
   "metadata": {},
   "outputs": [],
   "source": [
    "df.latest = df.latest.fillna(0)"
   ]
  },
  {
   "cell_type": "markdown",
   "id": "dc97e361-3986-4cf2-9632-841d6d37fcf2",
   "metadata": {},
   "source": [
    "#### Have not yet addressed temperature missing values... Let's find a way to fill"
   ]
  },
  {
   "cell_type": "code",
   "execution_count": 20,
   "id": "83c38038-b7ec-4bce-a477-c4cf228d3f7d",
   "metadata": {},
   "outputs": [
    {
     "data": {
      "text/plain": [
       "username\n",
       "esmith    45\n",
       "zsmith    43\n",
       "vsmith    41\n",
       "ysmith    40\n",
       "jsmith    37\n",
       "Name: count, dtype: int64"
      ]
     },
     "execution_count": 20,
     "metadata": {},
     "output_type": "execute_result"
    }
   ],
   "source": [
    "df.username.value_counts().head()"
   ]
  },
  {
   "cell_type": "code",
   "execution_count": 21,
   "id": "f22ff76f-1120-41c6-9837-ac2b4d0ae8fa",
   "metadata": {},
   "outputs": [],
   "source": [
    "df = df.set_index('timestamp')"
   ]
  },
  {
   "cell_type": "code",
   "execution_count": 22,
   "id": "768b39e8-c782-4e4b-a3d0-ccd9ead7c9ab",
   "metadata": {},
   "outputs": [
    {
     "data": {
      "text/html": [
       "<div>\n",
       "<style scoped>\n",
       "    .dataframe tbody tr th:only-of-type {\n",
       "        vertical-align: middle;\n",
       "    }\n",
       "\n",
       "    .dataframe tbody tr th {\n",
       "        vertical-align: top;\n",
       "    }\n",
       "\n",
       "    .dataframe thead th {\n",
       "        text-align: right;\n",
       "    }\n",
       "</style>\n",
       "<table border=\"1\" class=\"dataframe\">\n",
       "  <thead>\n",
       "    <tr style=\"text-align: right;\">\n",
       "      <th></th>\n",
       "      <th>username</th>\n",
       "      <th>temperature</th>\n",
       "      <th>heartrate</th>\n",
       "      <th>build</th>\n",
       "      <th>latest</th>\n",
       "      <th>note</th>\n",
       "    </tr>\n",
       "    <tr>\n",
       "      <th>timestamp</th>\n",
       "      <th></th>\n",
       "      <th></th>\n",
       "      <th></th>\n",
       "      <th></th>\n",
       "      <th></th>\n",
       "      <th></th>\n",
       "    </tr>\n",
       "  </thead>\n",
       "  <tbody>\n",
       "    <tr>\n",
       "      <th>2017-01-01T12:00:23</th>\n",
       "      <td>michaelsmith</td>\n",
       "      <td>12.0</td>\n",
       "      <td>67</td>\n",
       "      <td>4e6a7805-8faa-2768-6ef6-eb3198b483ac</td>\n",
       "      <td>0.0</td>\n",
       "      <td>interval</td>\n",
       "    </tr>\n",
       "    <tr>\n",
       "      <th>2017-01-01T12:01:09</th>\n",
       "      <td>kharrison</td>\n",
       "      <td>6.0</td>\n",
       "      <td>78</td>\n",
       "      <td>7256b7b0-e502-f576-62ec-ed73533c9c84</td>\n",
       "      <td>0.0</td>\n",
       "      <td>wake</td>\n",
       "    </tr>\n",
       "    <tr>\n",
       "      <th>2017-01-01T12:01:34</th>\n",
       "      <td>smithadam</td>\n",
       "      <td>5.0</td>\n",
       "      <td>89</td>\n",
       "      <td>9226c94b-bb4b-a6c8-8e02-cb42b53e9c90</td>\n",
       "      <td>0.0</td>\n",
       "      <td>NaN</td>\n",
       "    </tr>\n",
       "    <tr>\n",
       "      <th>2017-01-01T12:02:09</th>\n",
       "      <td>eddierodriguez</td>\n",
       "      <td>28.0</td>\n",
       "      <td>76</td>\n",
       "      <td>NaN</td>\n",
       "      <td>0.0</td>\n",
       "      <td>update</td>\n",
       "    </tr>\n",
       "    <tr>\n",
       "      <th>2017-01-01T12:02:36</th>\n",
       "      <td>kenneth94</td>\n",
       "      <td>29.0</td>\n",
       "      <td>62</td>\n",
       "      <td>122f1c6a-403c-2221-6ed1-b5caa08f11e0</td>\n",
       "      <td>0.0</td>\n",
       "      <td>NaN</td>\n",
       "    </tr>\n",
       "  </tbody>\n",
       "</table>\n",
       "</div>"
      ],
      "text/plain": [
       "                           username  temperature  heartrate  \\\n",
       "timestamp                                                     \n",
       "2017-01-01T12:00:23    michaelsmith         12.0         67   \n",
       "2017-01-01T12:01:09       kharrison          6.0         78   \n",
       "2017-01-01T12:01:34       smithadam          5.0         89   \n",
       "2017-01-01T12:02:09  eddierodriguez         28.0         76   \n",
       "2017-01-01T12:02:36       kenneth94         29.0         62   \n",
       "\n",
       "                                                    build  latest      note  \n",
       "timestamp                                                                    \n",
       "2017-01-01T12:00:23  4e6a7805-8faa-2768-6ef6-eb3198b483ac     0.0  interval  \n",
       "2017-01-01T12:01:09  7256b7b0-e502-f576-62ec-ed73533c9c84     0.0      wake  \n",
       "2017-01-01T12:01:34  9226c94b-bb4b-a6c8-8e02-cb42b53e9c90     0.0       NaN  \n",
       "2017-01-01T12:02:09                                   NaN     0.0    update  \n",
       "2017-01-01T12:02:36  122f1c6a-403c-2221-6ed1-b5caa08f11e0     0.0       NaN  "
      ]
     },
     "execution_count": 22,
     "metadata": {},
     "output_type": "execute_result"
    }
   ],
   "source": [
    "df.head()"
   ]
  },
  {
   "cell_type": "markdown",
   "id": "c1e781c5-ad87-47d4-abf5-56077fd75910",
   "metadata": {},
   "source": [
    "# Exercise-2(Scikit Learn Processing)\n",
    "In this notebook, we'll use sklearn.preprocessing to do some scaling for us. If you need to prepare data for machine learning or feature extraction, the sklearn.preprocessing documentation has great examples."
   ]
  },
  {
   "cell_type": "markdown",
   "id": "48c52995-7a86-47c1-9f16-35d33b8ef289",
   "metadata": {},
   "source": [
    "## Import Libraries"
   ]
  },
  {
   "cell_type": "code",
   "execution_count": 23,
   "id": "0fe638e7-9242-402b-9d1e-b00a810d0ba5",
   "metadata": {},
   "outputs": [],
   "source": [
    "from sklearn import preprocessing\n",
    "from sklearn.impute import SimpleImputer\n",
    "import numpy as np\n",
    "import pandas as pd\n",
    "from datetime import datetime"
   ]
  },
  {
   "cell_type": "code",
   "execution_count": 24,
   "id": "4d405840-eae3-4a1d-917f-5d474fc914f0",
   "metadata": {},
   "outputs": [],
   "source": [
    "hvac = pd.read_csv(\"E:\\My Environment\\MCA Notes\\Assignments\\AI & ML Assignments\\Assignment(Projects)\\Pandas Exercise\\HVAC_with_nulls.csv\")"
   ]
  },
  {
   "cell_type": "markdown",
   "id": "c836ce72-4f54-49c4-bebf-e15be54771bf",
   "metadata": {},
   "source": [
    "#### Checking Data Quality"
   ]
  },
  {
   "cell_type": "code",
   "execution_count": 25,
   "id": "c85b1a0e-2b96-4b23-85a7-fbdc211c0b75",
   "metadata": {},
   "outputs": [
    {
     "data": {
      "text/plain": [
       "Date           object\n",
       "Time           object\n",
       "TargetTemp    float64\n",
       "ActualTemp      int64\n",
       "System          int64\n",
       "SystemAge     float64\n",
       "BuildingID      int64\n",
       "10            float64\n",
       "dtype: object"
      ]
     },
     "execution_count": 25,
     "metadata": {},
     "output_type": "execute_result"
    }
   ],
   "source": [
    "hvac.dtypes"
   ]
  },
  {
   "cell_type": "code",
   "execution_count": 26,
   "id": "d8eff289-ef58-44de-a075-f4514a938a23",
   "metadata": {},
   "outputs": [
    {
     "data": {
      "text/plain": [
       "(8000, 8)"
      ]
     },
     "execution_count": 26,
     "metadata": {},
     "output_type": "execute_result"
    }
   ],
   "source": [
    "hvac.shape"
   ]
  },
  {
   "cell_type": "code",
   "execution_count": 27,
   "id": "b02a4f3b-92e4-4564-8ecb-2ac07230175a",
   "metadata": {},
   "outputs": [
    {
     "data": {
      "text/html": [
       "<div>\n",
       "<style scoped>\n",
       "    .dataframe tbody tr th:only-of-type {\n",
       "        vertical-align: middle;\n",
       "    }\n",
       "\n",
       "    .dataframe tbody tr th {\n",
       "        vertical-align: top;\n",
       "    }\n",
       "\n",
       "    .dataframe thead th {\n",
       "        text-align: right;\n",
       "    }\n",
       "</style>\n",
       "<table border=\"1\" class=\"dataframe\">\n",
       "  <thead>\n",
       "    <tr style=\"text-align: right;\">\n",
       "      <th></th>\n",
       "      <th>Date</th>\n",
       "      <th>Time</th>\n",
       "      <th>TargetTemp</th>\n",
       "      <th>ActualTemp</th>\n",
       "      <th>System</th>\n",
       "      <th>SystemAge</th>\n",
       "      <th>BuildingID</th>\n",
       "      <th>10</th>\n",
       "    </tr>\n",
       "  </thead>\n",
       "  <tbody>\n",
       "    <tr>\n",
       "      <th>0</th>\n",
       "      <td>6/1/13</td>\n",
       "      <td>0:00:01</td>\n",
       "      <td>66.0</td>\n",
       "      <td>58</td>\n",
       "      <td>13</td>\n",
       "      <td>20.0</td>\n",
       "      <td>4</td>\n",
       "      <td>NaN</td>\n",
       "    </tr>\n",
       "    <tr>\n",
       "      <th>1</th>\n",
       "      <td>6/2/13</td>\n",
       "      <td>1:00:01</td>\n",
       "      <td>NaN</td>\n",
       "      <td>68</td>\n",
       "      <td>3</td>\n",
       "      <td>20.0</td>\n",
       "      <td>17</td>\n",
       "      <td>NaN</td>\n",
       "    </tr>\n",
       "    <tr>\n",
       "      <th>2</th>\n",
       "      <td>6/3/13</td>\n",
       "      <td>2:00:01</td>\n",
       "      <td>70.0</td>\n",
       "      <td>73</td>\n",
       "      <td>17</td>\n",
       "      <td>20.0</td>\n",
       "      <td>18</td>\n",
       "      <td>NaN</td>\n",
       "    </tr>\n",
       "    <tr>\n",
       "      <th>3</th>\n",
       "      <td>6/4/13</td>\n",
       "      <td>3:00:01</td>\n",
       "      <td>67.0</td>\n",
       "      <td>63</td>\n",
       "      <td>2</td>\n",
       "      <td>NaN</td>\n",
       "      <td>15</td>\n",
       "      <td>NaN</td>\n",
       "    </tr>\n",
       "    <tr>\n",
       "      <th>4</th>\n",
       "      <td>6/5/13</td>\n",
       "      <td>4:00:01</td>\n",
       "      <td>68.0</td>\n",
       "      <td>74</td>\n",
       "      <td>16</td>\n",
       "      <td>9.0</td>\n",
       "      <td>3</td>\n",
       "      <td>NaN</td>\n",
       "    </tr>\n",
       "  </tbody>\n",
       "</table>\n",
       "</div>"
      ],
      "text/plain": [
       "     Date     Time  TargetTemp  ActualTemp  System  SystemAge  BuildingID  10\n",
       "0  6/1/13  0:00:01        66.0          58      13       20.0           4 NaN\n",
       "1  6/2/13  1:00:01         NaN          68       3       20.0          17 NaN\n",
       "2  6/3/13  2:00:01        70.0          73      17       20.0          18 NaN\n",
       "3  6/4/13  3:00:01        67.0          63       2        NaN          15 NaN\n",
       "4  6/5/13  4:00:01        68.0          74      16        9.0           3 NaN"
      ]
     },
     "execution_count": 27,
     "metadata": {},
     "output_type": "execute_result"
    }
   ],
   "source": [
    "hvac.head()"
   ]
  },
  {
   "cell_type": "markdown",
   "id": "256ac57d-7a05-4a2a-be0c-017c84112e58",
   "metadata": {},
   "source": [
    "#### Impute missing values with mean"
   ]
  },
  {
   "cell_type": "code",
   "execution_count": 29,
   "id": "c01296fe-5bb3-452e-b327-7dc76e1d68b0",
   "metadata": {},
   "outputs": [],
   "source": [
    "imp = SimpleImputer(missing_values=np.nan, strategy='mean')"
   ]
  },
  {
   "cell_type": "code",
   "execution_count": 30,
   "id": "89c50df8-a939-404e-a3c6-f211422eaa69",
   "metadata": {},
   "outputs": [],
   "source": [
    "hvac_numeric = hvac[['TargetTemp', 'SystemAge']]"
   ]
  },
  {
   "cell_type": "code",
   "execution_count": 31,
   "id": "6ec8b921-c04c-478d-af2c-5439f3d81857",
   "metadata": {},
   "outputs": [],
   "source": [
    "imp = imp.fit(hvac_numeric.loc[:10])"
   ]
  },
  {
   "cell_type": "code",
   "execution_count": 32,
   "id": "c5bdef2d-1102-4599-9c14-84a444bbd2f4",
   "metadata": {},
   "outputs": [],
   "source": [
    "transformed = imp.fit_transform(hvac_numeric)"
   ]
  },
  {
   "cell_type": "code",
   "execution_count": 33,
   "id": "de711c74-b81d-4b8c-9edd-0287560e885c",
   "metadata": {},
   "outputs": [
    {
     "data": {
      "text/plain": [
       "array([[66.        , 20.        ],\n",
       "       [67.50773481, 20.        ],\n",
       "       [70.        , 20.        ],\n",
       "       ...,\n",
       "       [67.50773481,  4.        ],\n",
       "       [65.        , 23.        ],\n",
       "       [66.        , 21.        ]])"
      ]
     },
     "execution_count": 33,
     "metadata": {},
     "output_type": "execute_result"
    }
   ],
   "source": [
    "transformed"
   ]
  },
  {
   "cell_type": "code",
   "execution_count": 34,
   "id": "b5e014ac-d9ae-4ab2-92c2-a143b4a9634d",
   "metadata": {},
   "outputs": [],
   "source": [
    "hvac['TargetTemp'], hvac['SystemAge'] = transformed[:,0], transformed[:,1]"
   ]
  },
  {
   "cell_type": "code",
   "execution_count": 35,
   "id": "ed1ecb5d-a67f-48d9-b0bb-b6fc6a5a240a",
   "metadata": {},
   "outputs": [
    {
     "data": {
      "text/html": [
       "<div>\n",
       "<style scoped>\n",
       "    .dataframe tbody tr th:only-of-type {\n",
       "        vertical-align: middle;\n",
       "    }\n",
       "\n",
       "    .dataframe tbody tr th {\n",
       "        vertical-align: top;\n",
       "    }\n",
       "\n",
       "    .dataframe thead th {\n",
       "        text-align: right;\n",
       "    }\n",
       "</style>\n",
       "<table border=\"1\" class=\"dataframe\">\n",
       "  <thead>\n",
       "    <tr style=\"text-align: right;\">\n",
       "      <th></th>\n",
       "      <th>Date</th>\n",
       "      <th>Time</th>\n",
       "      <th>TargetTemp</th>\n",
       "      <th>ActualTemp</th>\n",
       "      <th>System</th>\n",
       "      <th>SystemAge</th>\n",
       "      <th>BuildingID</th>\n",
       "      <th>10</th>\n",
       "    </tr>\n",
       "  </thead>\n",
       "  <tbody>\n",
       "    <tr>\n",
       "      <th>0</th>\n",
       "      <td>6/1/13</td>\n",
       "      <td>0:00:01</td>\n",
       "      <td>66.000000</td>\n",
       "      <td>58</td>\n",
       "      <td>13</td>\n",
       "      <td>20.000000</td>\n",
       "      <td>4</td>\n",
       "      <td>NaN</td>\n",
       "    </tr>\n",
       "    <tr>\n",
       "      <th>1</th>\n",
       "      <td>6/2/13</td>\n",
       "      <td>1:00:01</td>\n",
       "      <td>67.507735</td>\n",
       "      <td>68</td>\n",
       "      <td>3</td>\n",
       "      <td>20.000000</td>\n",
       "      <td>17</td>\n",
       "      <td>NaN</td>\n",
       "    </tr>\n",
       "    <tr>\n",
       "      <th>2</th>\n",
       "      <td>6/3/13</td>\n",
       "      <td>2:00:01</td>\n",
       "      <td>70.000000</td>\n",
       "      <td>73</td>\n",
       "      <td>17</td>\n",
       "      <td>20.000000</td>\n",
       "      <td>18</td>\n",
       "      <td>NaN</td>\n",
       "    </tr>\n",
       "    <tr>\n",
       "      <th>3</th>\n",
       "      <td>6/4/13</td>\n",
       "      <td>3:00:01</td>\n",
       "      <td>67.000000</td>\n",
       "      <td>63</td>\n",
       "      <td>2</td>\n",
       "      <td>15.386643</td>\n",
       "      <td>15</td>\n",
       "      <td>NaN</td>\n",
       "    </tr>\n",
       "    <tr>\n",
       "      <th>4</th>\n",
       "      <td>6/5/13</td>\n",
       "      <td>4:00:01</td>\n",
       "      <td>68.000000</td>\n",
       "      <td>74</td>\n",
       "      <td>16</td>\n",
       "      <td>9.000000</td>\n",
       "      <td>3</td>\n",
       "      <td>NaN</td>\n",
       "    </tr>\n",
       "  </tbody>\n",
       "</table>\n",
       "</div>"
      ],
      "text/plain": [
       "     Date     Time  TargetTemp  ActualTemp  System  SystemAge  BuildingID  10\n",
       "0  6/1/13  0:00:01   66.000000          58      13  20.000000           4 NaN\n",
       "1  6/2/13  1:00:01   67.507735          68       3  20.000000          17 NaN\n",
       "2  6/3/13  2:00:01   70.000000          73      17  20.000000          18 NaN\n",
       "3  6/4/13  3:00:01   67.000000          63       2  15.386643          15 NaN\n",
       "4  6/5/13  4:00:01   68.000000          74      16   9.000000           3 NaN"
      ]
     },
     "execution_count": 35,
     "metadata": {},
     "output_type": "execute_result"
    }
   ],
   "source": [
    "hvac.head()"
   ]
  },
  {
   "cell_type": "markdown",
   "id": "04624661-e768-4626-af58-c9fd58ff307b",
   "metadata": {},
   "source": [
    "#### Scale temperature values"
   ]
  },
  {
   "cell_type": "code",
   "execution_count": 36,
   "id": "fe625021-7664-4c5f-8468-d604a147fc8f",
   "metadata": {},
   "outputs": [],
   "source": [
    "hvac['ScaledTemp'] = preprocessing.scale(hvac['ActualTemp'])"
   ]
  },
  {
   "cell_type": "code",
   "execution_count": 37,
   "id": "0289cf04-e9c9-4a32-a89c-57aba7fa91f9",
   "metadata": {},
   "outputs": [
    {
     "data": {
      "text/plain": [
       "0   -1.293272\n",
       "1    0.048732\n",
       "2    0.719733\n",
       "3   -0.622270\n",
       "4    0.853934\n",
       "Name: ScaledTemp, dtype: float64"
      ]
     },
     "execution_count": 37,
     "metadata": {},
     "output_type": "execute_result"
    }
   ],
   "source": [
    "hvac['ScaledTemp'].head()"
   ]
  },
  {
   "cell_type": "markdown",
   "id": "e6b447db-5fc3-43a6-965c-bba42933da53",
   "metadata": {},
   "source": [
    "#### Scale using a min and max scaler"
   ]
  },
  {
   "cell_type": "code",
   "execution_count": 38,
   "id": "ae54bd84-68e9-4f89-bdc4-53b9e0e2981a",
   "metadata": {},
   "outputs": [],
   "source": [
    "min_max_scaler = preprocessing.MinMaxScaler()"
   ]
  },
  {
   "cell_type": "code",
   "execution_count": 39,
   "id": "11253b37-60cb-471a-accf-9236e0ac231b",
   "metadata": {},
   "outputs": [],
   "source": [
    "temp_minmax = min_max_scaler.fit_transform(hvac[['ActualTemp']])"
   ]
  },
  {
   "cell_type": "code",
   "execution_count": 40,
   "id": "b9de468f-1a46-4aa8-962d-5323888dbd58",
   "metadata": {},
   "outputs": [
    {
     "data": {
      "text/plain": [
       "array([[0.12],\n",
       "       [0.52],\n",
       "       [0.72],\n",
       "       ...,\n",
       "       [0.56],\n",
       "       [0.32],\n",
       "       [0.44]])"
      ]
     },
     "execution_count": 40,
     "metadata": {},
     "output_type": "execute_result"
    }
   ],
   "source": [
    "temp_minmax"
   ]
  },
  {
   "cell_type": "markdown",
   "id": "10efa5ca-2aaf-4e3f-bf5e-35373fc06ae9",
   "metadata": {},
   "source": [
    "# Exercise-3(Case Study: Preparing Lobste.rs Stories for Machine Learning)\n",
    "In this case study, we'll be preparing lobste.rs stories for machine learning. To do so, we need to extract features and clean up the messy parts of the data. We'll be using Pandas along with sklearn.preprocessing and fuzzywuzzy."
   ]
  },
  {
   "cell_type": "markdown",
   "id": "0d5495ae-8f9f-4888-9b74-a8ec62cad2ed",
   "metadata": {},
   "source": [
    "## Import Libraries"
   ]
  },
  {
   "cell_type": "code",
   "execution_count": 42,
   "id": "f8ccd09d-d2f1-4259-b42c-d222748245e4",
   "metadata": {},
   "outputs": [],
   "source": [
    "import pandas as pd\n",
    "import requests\n",
    "from collections import Counter\n",
    "from sklearn import preprocessing"
   ]
  },
  {
   "cell_type": "markdown",
   "id": "43930b89-72c4-4d91-8902-92b9459890ea",
   "metadata": {},
   "source": [
    "#### If you'd rather read from the API to get the latest, uncomment the details (and add comment to the final line)"
   ]
  },
  {
   "cell_type": "code",
   "execution_count": 44,
   "id": "108d6c07-da4d-43fd-8993-78967d773a96",
   "metadata": {},
   "outputs": [],
   "source": [
    "stories = pd.read_json(\"E:\\\\My Environment\\\\MCA Notes\\\\Assignments\\\\AI & ML Assignments\\\\Assignment(Projects)\\\\Pandas Exercise\\\\all_lobsters.json\")\n"
   ]
  },
  {
   "cell_type": "code",
   "execution_count": 45,
   "id": "2cf33901-8286-432b-b81b-48ce212b1c8b",
   "metadata": {},
   "outputs": [
    {
     "data": {
      "text/html": [
       "<div>\n",
       "<style scoped>\n",
       "    .dataframe tbody tr th:only-of-type {\n",
       "        vertical-align: middle;\n",
       "    }\n",
       "\n",
       "    .dataframe tbody tr th {\n",
       "        vertical-align: top;\n",
       "    }\n",
       "\n",
       "    .dataframe thead th {\n",
       "        text-align: right;\n",
       "    }\n",
       "</style>\n",
       "<table border=\"1\" class=\"dataframe\">\n",
       "  <thead>\n",
       "    <tr style=\"text-align: right;\">\n",
       "      <th></th>\n",
       "      <th>comment_count</th>\n",
       "      <th>comments_url</th>\n",
       "      <th>created_at</th>\n",
       "      <th>description</th>\n",
       "      <th>downvotes</th>\n",
       "      <th>last_updated</th>\n",
       "      <th>score</th>\n",
       "      <th>short_id_url</th>\n",
       "      <th>submitter_user</th>\n",
       "      <th>tags</th>\n",
       "      <th>title</th>\n",
       "      <th>upvotes</th>\n",
       "      <th>url</th>\n",
       "    </tr>\n",
       "  </thead>\n",
       "  <tbody>\n",
       "    <tr>\n",
       "      <th>09zw7r</th>\n",
       "      <td>0</td>\n",
       "      <td>https://lobste.rs/s/09zw7r/edited_truth</td>\n",
       "      <td>2017-08-08 20:11:09</td>\n",
       "      <td></td>\n",
       "      <td>0</td>\n",
       "      <td>2017-08-09T11:03:57.014269</td>\n",
       "      <td>3</td>\n",
       "      <td>https://lobste.rs/s/09zw7r</td>\n",
       "      <td>{'avatar_url': 'https://lobste.rs/avatars/trn-...</td>\n",
       "      <td>[crypto, pdf]</td>\n",
       "      <td>The Edited Truth</td>\n",
       "      <td>3</td>\n",
       "      <td>https://eprint.iacr.org/2017/714.pdf</td>\n",
       "    </tr>\n",
       "    <tr>\n",
       "      <th>0bdne7</th>\n",
       "      <td>17</td>\n",
       "      <td>https://lobste.rs/s/0bdne7/rise_social_media_v...</td>\n",
       "      <td>2017-08-08 21:12:38</td>\n",
       "      <td></td>\n",
       "      <td>9</td>\n",
       "      <td>2017-08-09T11:03:57.014269</td>\n",
       "      <td>-1</td>\n",
       "      <td>https://lobste.rs/s/0bdne7</td>\n",
       "      <td>{'avatar_url': 'https://lobste.rs/avatars/nkhu...</td>\n",
       "      <td>[law, privacy]</td>\n",
       "      <td>The Rise of The Social Media Vigilante</td>\n",
       "      <td>8</td>\n",
       "      <td>https://medium.com/@nkhumphreys_89452/the-rise...</td>\n",
       "    </tr>\n",
       "    <tr>\n",
       "      <th>1bhbod</th>\n",
       "      <td>11</td>\n",
       "      <td>https://lobste.rs/s/1bhbod/tcl_misunderstood_a...</td>\n",
       "      <td>2017-04-30 20:28:52</td>\n",
       "      <td>&lt;p&gt;Did any language end up taking that “highly...</td>\n",
       "      <td>0</td>\n",
       "      <td>2017-05-01T06:29:11.725518</td>\n",
       "      <td>17</td>\n",
       "      <td>https://lobste.rs/s/1bhbod</td>\n",
       "      <td>{'is_moderator': False, 'is_admin': False, 'us...</td>\n",
       "      <td>[programming]</td>\n",
       "      <td>Tcl the misunderstood - antirez</td>\n",
       "      <td>17</td>\n",
       "      <td>http://antirez.com/articoli/tclmisunderstood.html</td>\n",
       "    </tr>\n",
       "    <tr>\n",
       "      <th>1xkje1</th>\n",
       "      <td>0</td>\n",
       "      <td>https://lobste.rs/s/1xkje1/interview_4_jonatha...</td>\n",
       "      <td>2017-05-01 02:31:35</td>\n",
       "      <td>&lt;p&gt;Rust’s own Jonathan Turner on his backgroun...</td>\n",
       "      <td>0</td>\n",
       "      <td>2017-05-01T06:29:11.725518</td>\n",
       "      <td>1</td>\n",
       "      <td>https://lobste.rs/s/1xkje1</td>\n",
       "      <td>{'is_moderator': False, 'is_admin': False, 'us...</td>\n",
       "      <td>[audio, javascript, rust]</td>\n",
       "      <td>🎤🎙 Interview 4 – Jonathan Turner: Part 1/3</td>\n",
       "      <td>1</td>\n",
       "      <td>http://www.newrustacean.com/show_notes/intervi...</td>\n",
       "    </tr>\n",
       "    <tr>\n",
       "      <th>2dasvh</th>\n",
       "      <td>19</td>\n",
       "      <td>https://lobste.rs/s/2dasvh/return_hipster_pda</td>\n",
       "      <td>2017-08-08 14:25:29</td>\n",
       "      <td></td>\n",
       "      <td>0</td>\n",
       "      <td>2017-08-09T11:03:56.287654</td>\n",
       "      <td>20</td>\n",
       "      <td>https://lobste.rs/s/2dasvh</td>\n",
       "      <td>{'created_at': '2017-01-19T14:56:50.000-06:00'...</td>\n",
       "      <td>[practices]</td>\n",
       "      <td>The Return of the Hipster PDA</td>\n",
       "      <td>20</td>\n",
       "      <td>http://www.agilesysadmin.net/return-of-the-hip...</td>\n",
       "    </tr>\n",
       "  </tbody>\n",
       "</table>\n",
       "</div>"
      ],
      "text/plain": [
       "        comment_count                                       comments_url  \\\n",
       "09zw7r              0            https://lobste.rs/s/09zw7r/edited_truth   \n",
       "0bdne7             17  https://lobste.rs/s/0bdne7/rise_social_media_v...   \n",
       "1bhbod             11  https://lobste.rs/s/1bhbod/tcl_misunderstood_a...   \n",
       "1xkje1              0  https://lobste.rs/s/1xkje1/interview_4_jonatha...   \n",
       "2dasvh             19      https://lobste.rs/s/2dasvh/return_hipster_pda   \n",
       "\n",
       "                created_at                                        description  \\\n",
       "09zw7r 2017-08-08 20:11:09                                                      \n",
       "0bdne7 2017-08-08 21:12:38                                                      \n",
       "1bhbod 2017-04-30 20:28:52  <p>Did any language end up taking that “highly...   \n",
       "1xkje1 2017-05-01 02:31:35  <p>Rust’s own Jonathan Turner on his backgroun...   \n",
       "2dasvh 2017-08-08 14:25:29                                                      \n",
       "\n",
       "        downvotes                last_updated  score  \\\n",
       "09zw7r          0  2017-08-09T11:03:57.014269      3   \n",
       "0bdne7          9  2017-08-09T11:03:57.014269     -1   \n",
       "1bhbod          0  2017-05-01T06:29:11.725518     17   \n",
       "1xkje1          0  2017-05-01T06:29:11.725518      1   \n",
       "2dasvh          0  2017-08-09T11:03:56.287654     20   \n",
       "\n",
       "                      short_id_url  \\\n",
       "09zw7r  https://lobste.rs/s/09zw7r   \n",
       "0bdne7  https://lobste.rs/s/0bdne7   \n",
       "1bhbod  https://lobste.rs/s/1bhbod   \n",
       "1xkje1  https://lobste.rs/s/1xkje1   \n",
       "2dasvh  https://lobste.rs/s/2dasvh   \n",
       "\n",
       "                                           submitter_user  \\\n",
       "09zw7r  {'avatar_url': 'https://lobste.rs/avatars/trn-...   \n",
       "0bdne7  {'avatar_url': 'https://lobste.rs/avatars/nkhu...   \n",
       "1bhbod  {'is_moderator': False, 'is_admin': False, 'us...   \n",
       "1xkje1  {'is_moderator': False, 'is_admin': False, 'us...   \n",
       "2dasvh  {'created_at': '2017-01-19T14:56:50.000-06:00'...   \n",
       "\n",
       "                             tags                                       title  \\\n",
       "09zw7r              [crypto, pdf]                            The Edited Truth   \n",
       "0bdne7             [law, privacy]      The Rise of The Social Media Vigilante   \n",
       "1bhbod              [programming]             Tcl the misunderstood - antirez   \n",
       "1xkje1  [audio, javascript, rust]  🎤🎙 Interview 4 – Jonathan Turner: Part 1/3   \n",
       "2dasvh                [practices]               The Return of the Hipster PDA   \n",
       "\n",
       "        upvotes                                                url  \n",
       "09zw7r        3               https://eprint.iacr.org/2017/714.pdf  \n",
       "0bdne7        8  https://medium.com/@nkhumphreys_89452/the-rise...  \n",
       "1bhbod       17  http://antirez.com/articoli/tclmisunderstood.html  \n",
       "1xkje1        1  http://www.newrustacean.com/show_notes/intervi...  \n",
       "2dasvh       20  http://www.agilesysadmin.net/return-of-the-hip...  "
      ]
     },
     "execution_count": 45,
     "metadata": {},
     "output_type": "execute_result"
    }
   ],
   "source": [
    "stories.head()"
   ]
  },
  {
   "cell_type": "code",
   "execution_count": 46,
   "id": "e2566696-196c-49c6-a135-3d4a5e6d888b",
   "metadata": {},
   "outputs": [
    {
     "data": {
      "text/plain": [
       "comment_count              int64\n",
       "comments_url              object\n",
       "created_at        datetime64[ns]\n",
       "description               object\n",
       "downvotes                  int64\n",
       "last_updated              object\n",
       "score                      int64\n",
       "short_id_url              object\n",
       "submitter_user            object\n",
       "tags                      object\n",
       "title                     object\n",
       "upvotes                    int64\n",
       "url                       object\n",
       "dtype: object"
      ]
     },
     "execution_count": 46,
     "metadata": {},
     "output_type": "execute_result"
    }
   ],
   "source": [
    "stories.dtypes"
   ]
  },
  {
   "cell_type": "markdown",
   "id": "7e4080a5-4403-4ddc-a016-8b8f48428dd8",
   "metadata": {},
   "source": [
    "#### Let's take a look at the submitter_user field, as it appears like a dict"
   ]
  },
  {
   "cell_type": "code",
   "execution_count": 47,
   "id": "e7da81e4-ff49-4cd0-9d22-52a6e72a7157",
   "metadata": {},
   "outputs": [
    {
     "data": {
      "text/plain": [
       "{'is_moderator': False,\n",
       " 'is_admin': False,\n",
       " 'username': 'chriskrycho',\n",
       " 'karma': 27,\n",
       " 'avatar_url': 'https://secure.gravatar.com/avatar/c096ed07142659408dc6651f8320acd3?r=pg&d=identicon&s=100',\n",
       " 'created_at': '2016-08-15T09:33:28.000-05:00',\n",
       " 'about': \"I'm a husband and father; a theologian, composer, poet, and essayist; a front end developer at [Olo](http://www.olo.com); a [Rust](https://www.rust-lang.org/en-US/) enthusiast host; and the host of the [Winning Slowly](http://www.winningslowly.org), [New Rustacean](http://www.newrustacean.com/), [Sap.py](http://www.sap-py.com), and [Run With Me](http://runwith.chriskrycho.com/) podcasts.\"}"
      ]
     },
     "execution_count": 47,
     "metadata": {},
     "output_type": "execute_result"
    }
   ],
   "source": [
    "stories.submitter_user.iloc[3]"
   ]
  },
  {
   "cell_type": "code",
   "execution_count": 48,
   "id": "ce0f4227-8803-4c40-921d-cfa4e102a28b",
   "metadata": {},
   "outputs": [],
   "source": [
    "user_df = stories['submitter_user'].apply(pd.Series)"
   ]
  },
  {
   "cell_type": "code",
   "execution_count": 49,
   "id": "d37d09cc-cb40-4715-8995-e7a354a64e84",
   "metadata": {},
   "outputs": [
    {
     "data": {
      "text/html": [
       "<div>\n",
       "<style scoped>\n",
       "    .dataframe tbody tr th:only-of-type {\n",
       "        vertical-align: middle;\n",
       "    }\n",
       "\n",
       "    .dataframe tbody tr th {\n",
       "        vertical-align: top;\n",
       "    }\n",
       "\n",
       "    .dataframe thead th {\n",
       "        text-align: right;\n",
       "    }\n",
       "</style>\n",
       "<table border=\"1\" class=\"dataframe\">\n",
       "  <thead>\n",
       "    <tr style=\"text-align: right;\">\n",
       "      <th></th>\n",
       "      <th>avatar_url</th>\n",
       "      <th>created_at</th>\n",
       "      <th>is_admin</th>\n",
       "      <th>username</th>\n",
       "      <th>karma</th>\n",
       "      <th>is_moderator</th>\n",
       "      <th>about</th>\n",
       "      <th>github_username</th>\n",
       "    </tr>\n",
       "  </thead>\n",
       "  <tbody>\n",
       "    <tr>\n",
       "      <th>09zw7r</th>\n",
       "      <td>https://lobste.rs/avatars/trn-100.png</td>\n",
       "      <td>2017-01-19T14:56:50.000-06:00</td>\n",
       "      <td>False</td>\n",
       "      <td>trn</td>\n",
       "      <td>429</td>\n",
       "      <td>False</td>\n",
       "      <td></td>\n",
       "      <td>NaN</td>\n",
       "    </tr>\n",
       "    <tr>\n",
       "      <th>0bdne7</th>\n",
       "      <td>https://lobste.rs/avatars/nkhumphreys-100.png</td>\n",
       "      <td>2014-07-02T06:36:39.000-05:00</td>\n",
       "      <td>False</td>\n",
       "      <td>nkhumphreys</td>\n",
       "      <td>-1</td>\n",
       "      <td>False</td>\n",
       "      <td>Web developer and previously embedded C developer</td>\n",
       "      <td>NaN</td>\n",
       "    </tr>\n",
       "    <tr>\n",
       "      <th>1bhbod</th>\n",
       "      <td>https://secure.gravatar.com/avatar/85002353297...</td>\n",
       "      <td>2016-11-30T10:14:24.000-06:00</td>\n",
       "      <td>False</td>\n",
       "      <td>yumaikas</td>\n",
       "      <td>578</td>\n",
       "      <td>False</td>\n",
       "      <td>I blog infrequently at https://junglecoder.com...</td>\n",
       "      <td>NaN</td>\n",
       "    </tr>\n",
       "    <tr>\n",
       "      <th>1xkje1</th>\n",
       "      <td>https://secure.gravatar.com/avatar/c096ed07142...</td>\n",
       "      <td>2016-08-15T09:33:28.000-05:00</td>\n",
       "      <td>False</td>\n",
       "      <td>chriskrycho</td>\n",
       "      <td>27</td>\n",
       "      <td>False</td>\n",
       "      <td>I'm a husband and father; a theologian, compos...</td>\n",
       "      <td>NaN</td>\n",
       "    </tr>\n",
       "    <tr>\n",
       "      <th>2dasvh</th>\n",
       "      <td>https://lobste.rs/avatars/trn-100.png</td>\n",
       "      <td>2017-01-19T14:56:50.000-06:00</td>\n",
       "      <td>False</td>\n",
       "      <td>trn</td>\n",
       "      <td>429</td>\n",
       "      <td>False</td>\n",
       "      <td></td>\n",
       "      <td>NaN</td>\n",
       "    </tr>\n",
       "  </tbody>\n",
       "</table>\n",
       "</div>"
      ],
      "text/plain": [
       "                                               avatar_url  \\\n",
       "09zw7r              https://lobste.rs/avatars/trn-100.png   \n",
       "0bdne7      https://lobste.rs/avatars/nkhumphreys-100.png   \n",
       "1bhbod  https://secure.gravatar.com/avatar/85002353297...   \n",
       "1xkje1  https://secure.gravatar.com/avatar/c096ed07142...   \n",
       "2dasvh              https://lobste.rs/avatars/trn-100.png   \n",
       "\n",
       "                           created_at  is_admin     username  karma  \\\n",
       "09zw7r  2017-01-19T14:56:50.000-06:00     False          trn    429   \n",
       "0bdne7  2014-07-02T06:36:39.000-05:00     False  nkhumphreys     -1   \n",
       "1bhbod  2016-11-30T10:14:24.000-06:00     False     yumaikas    578   \n",
       "1xkje1  2016-08-15T09:33:28.000-05:00     False  chriskrycho     27   \n",
       "2dasvh  2017-01-19T14:56:50.000-06:00     False          trn    429   \n",
       "\n",
       "        is_moderator                                              about  \\\n",
       "09zw7r         False                                                      \n",
       "0bdne7         False  Web developer and previously embedded C developer   \n",
       "1bhbod         False  I blog infrequently at https://junglecoder.com...   \n",
       "1xkje1         False  I'm a husband and father; a theologian, compos...   \n",
       "2dasvh         False                                                      \n",
       "\n",
       "       github_username  \n",
       "09zw7r             NaN  \n",
       "0bdne7             NaN  \n",
       "1bhbod             NaN  \n",
       "1xkje1             NaN  \n",
       "2dasvh             NaN  "
      ]
     },
     "execution_count": 49,
     "metadata": {},
     "output_type": "execute_result"
    }
   ],
   "source": [
    "user_df.head()"
   ]
  },
  {
   "cell_type": "markdown",
   "id": "53fac03e-b99d-458c-93e2-75b4c8f81554",
   "metadata": {},
   "source": [
    "#### Can we combine the user data without potential column overlap?"
   ]
  },
  {
   "cell_type": "code",
   "execution_count": 50,
   "id": "ae0b3968-8759-40f9-ad91-e7a6c0d6b473",
   "metadata": {},
   "outputs": [
    {
     "data": {
      "text/plain": [
       "{'created_at'}"
      ]
     },
     "execution_count": 50,
     "metadata": {},
     "output_type": "execute_result"
    }
   ],
   "source": [
    "set(user_df.columns).intersection(stories.columns)"
   ]
  },
  {
   "cell_type": "code",
   "execution_count": 51,
   "id": "5e36fc46-4d41-4899-abe0-5990272d3f90",
   "metadata": {},
   "outputs": [],
   "source": [
    "user_df = user_df.rename(columns={'created_at': \n",
    "                                  'user_created_at'})"
   ]
  },
  {
   "cell_type": "code",
   "execution_count": 52,
   "id": "ac55b7a2-64a0-4e43-ace5-84f34ed54243",
   "metadata": {},
   "outputs": [],
   "source": [
    "stories = pd.concat([stories.drop(['submitter_user'], axis=1), \n",
    "                     user_df], axis=1)"
   ]
  },
  {
   "cell_type": "code",
   "execution_count": 53,
   "id": "845d79f9-36e1-433f-a3dc-fccb49f1fd5e",
   "metadata": {},
   "outputs": [
    {
     "data": {
      "text/html": [
       "<div>\n",
       "<style scoped>\n",
       "    .dataframe tbody tr th:only-of-type {\n",
       "        vertical-align: middle;\n",
       "    }\n",
       "\n",
       "    .dataframe tbody tr th {\n",
       "        vertical-align: top;\n",
       "    }\n",
       "\n",
       "    .dataframe thead th {\n",
       "        text-align: right;\n",
       "    }\n",
       "</style>\n",
       "<table border=\"1\" class=\"dataframe\">\n",
       "  <thead>\n",
       "    <tr style=\"text-align: right;\">\n",
       "      <th></th>\n",
       "      <th>comment_count</th>\n",
       "      <th>comments_url</th>\n",
       "      <th>created_at</th>\n",
       "      <th>description</th>\n",
       "      <th>downvotes</th>\n",
       "      <th>last_updated</th>\n",
       "      <th>score</th>\n",
       "      <th>short_id_url</th>\n",
       "      <th>tags</th>\n",
       "      <th>title</th>\n",
       "      <th>upvotes</th>\n",
       "      <th>url</th>\n",
       "      <th>avatar_url</th>\n",
       "      <th>user_created_at</th>\n",
       "      <th>is_admin</th>\n",
       "      <th>username</th>\n",
       "      <th>karma</th>\n",
       "      <th>is_moderator</th>\n",
       "      <th>about</th>\n",
       "      <th>github_username</th>\n",
       "    </tr>\n",
       "  </thead>\n",
       "  <tbody>\n",
       "    <tr>\n",
       "      <th>09zw7r</th>\n",
       "      <td>0</td>\n",
       "      <td>https://lobste.rs/s/09zw7r/edited_truth</td>\n",
       "      <td>2017-08-08 20:11:09</td>\n",
       "      <td></td>\n",
       "      <td>0</td>\n",
       "      <td>2017-08-09T11:03:57.014269</td>\n",
       "      <td>3</td>\n",
       "      <td>https://lobste.rs/s/09zw7r</td>\n",
       "      <td>[crypto, pdf]</td>\n",
       "      <td>The Edited Truth</td>\n",
       "      <td>3</td>\n",
       "      <td>https://eprint.iacr.org/2017/714.pdf</td>\n",
       "      <td>https://lobste.rs/avatars/trn-100.png</td>\n",
       "      <td>2017-01-19T14:56:50.000-06:00</td>\n",
       "      <td>False</td>\n",
       "      <td>trn</td>\n",
       "      <td>429</td>\n",
       "      <td>False</td>\n",
       "      <td></td>\n",
       "      <td>NaN</td>\n",
       "    </tr>\n",
       "    <tr>\n",
       "      <th>0bdne7</th>\n",
       "      <td>17</td>\n",
       "      <td>https://lobste.rs/s/0bdne7/rise_social_media_v...</td>\n",
       "      <td>2017-08-08 21:12:38</td>\n",
       "      <td></td>\n",
       "      <td>9</td>\n",
       "      <td>2017-08-09T11:03:57.014269</td>\n",
       "      <td>-1</td>\n",
       "      <td>https://lobste.rs/s/0bdne7</td>\n",
       "      <td>[law, privacy]</td>\n",
       "      <td>The Rise of The Social Media Vigilante</td>\n",
       "      <td>8</td>\n",
       "      <td>https://medium.com/@nkhumphreys_89452/the-rise...</td>\n",
       "      <td>https://lobste.rs/avatars/nkhumphreys-100.png</td>\n",
       "      <td>2014-07-02T06:36:39.000-05:00</td>\n",
       "      <td>False</td>\n",
       "      <td>nkhumphreys</td>\n",
       "      <td>-1</td>\n",
       "      <td>False</td>\n",
       "      <td>Web developer and previously embedded C developer</td>\n",
       "      <td>NaN</td>\n",
       "    </tr>\n",
       "    <tr>\n",
       "      <th>1bhbod</th>\n",
       "      <td>11</td>\n",
       "      <td>https://lobste.rs/s/1bhbod/tcl_misunderstood_a...</td>\n",
       "      <td>2017-04-30 20:28:52</td>\n",
       "      <td>&lt;p&gt;Did any language end up taking that “highly...</td>\n",
       "      <td>0</td>\n",
       "      <td>2017-05-01T06:29:11.725518</td>\n",
       "      <td>17</td>\n",
       "      <td>https://lobste.rs/s/1bhbod</td>\n",
       "      <td>[programming]</td>\n",
       "      <td>Tcl the misunderstood - antirez</td>\n",
       "      <td>17</td>\n",
       "      <td>http://antirez.com/articoli/tclmisunderstood.html</td>\n",
       "      <td>https://secure.gravatar.com/avatar/85002353297...</td>\n",
       "      <td>2016-11-30T10:14:24.000-06:00</td>\n",
       "      <td>False</td>\n",
       "      <td>yumaikas</td>\n",
       "      <td>578</td>\n",
       "      <td>False</td>\n",
       "      <td>I blog infrequently at https://junglecoder.com...</td>\n",
       "      <td>NaN</td>\n",
       "    </tr>\n",
       "    <tr>\n",
       "      <th>1xkje1</th>\n",
       "      <td>0</td>\n",
       "      <td>https://lobste.rs/s/1xkje1/interview_4_jonatha...</td>\n",
       "      <td>2017-05-01 02:31:35</td>\n",
       "      <td>&lt;p&gt;Rust’s own Jonathan Turner on his backgroun...</td>\n",
       "      <td>0</td>\n",
       "      <td>2017-05-01T06:29:11.725518</td>\n",
       "      <td>1</td>\n",
       "      <td>https://lobste.rs/s/1xkje1</td>\n",
       "      <td>[audio, javascript, rust]</td>\n",
       "      <td>🎤🎙 Interview 4 – Jonathan Turner: Part 1/3</td>\n",
       "      <td>1</td>\n",
       "      <td>http://www.newrustacean.com/show_notes/intervi...</td>\n",
       "      <td>https://secure.gravatar.com/avatar/c096ed07142...</td>\n",
       "      <td>2016-08-15T09:33:28.000-05:00</td>\n",
       "      <td>False</td>\n",
       "      <td>chriskrycho</td>\n",
       "      <td>27</td>\n",
       "      <td>False</td>\n",
       "      <td>I'm a husband and father; a theologian, compos...</td>\n",
       "      <td>NaN</td>\n",
       "    </tr>\n",
       "    <tr>\n",
       "      <th>2dasvh</th>\n",
       "      <td>19</td>\n",
       "      <td>https://lobste.rs/s/2dasvh/return_hipster_pda</td>\n",
       "      <td>2017-08-08 14:25:29</td>\n",
       "      <td></td>\n",
       "      <td>0</td>\n",
       "      <td>2017-08-09T11:03:56.287654</td>\n",
       "      <td>20</td>\n",
       "      <td>https://lobste.rs/s/2dasvh</td>\n",
       "      <td>[practices]</td>\n",
       "      <td>The Return of the Hipster PDA</td>\n",
       "      <td>20</td>\n",
       "      <td>http://www.agilesysadmin.net/return-of-the-hip...</td>\n",
       "      <td>https://lobste.rs/avatars/trn-100.png</td>\n",
       "      <td>2017-01-19T14:56:50.000-06:00</td>\n",
       "      <td>False</td>\n",
       "      <td>trn</td>\n",
       "      <td>429</td>\n",
       "      <td>False</td>\n",
       "      <td></td>\n",
       "      <td>NaN</td>\n",
       "    </tr>\n",
       "  </tbody>\n",
       "</table>\n",
       "</div>"
      ],
      "text/plain": [
       "        comment_count                                       comments_url  \\\n",
       "09zw7r              0            https://lobste.rs/s/09zw7r/edited_truth   \n",
       "0bdne7             17  https://lobste.rs/s/0bdne7/rise_social_media_v...   \n",
       "1bhbod             11  https://lobste.rs/s/1bhbod/tcl_misunderstood_a...   \n",
       "1xkje1              0  https://lobste.rs/s/1xkje1/interview_4_jonatha...   \n",
       "2dasvh             19      https://lobste.rs/s/2dasvh/return_hipster_pda   \n",
       "\n",
       "                created_at                                        description  \\\n",
       "09zw7r 2017-08-08 20:11:09                                                      \n",
       "0bdne7 2017-08-08 21:12:38                                                      \n",
       "1bhbod 2017-04-30 20:28:52  <p>Did any language end up taking that “highly...   \n",
       "1xkje1 2017-05-01 02:31:35  <p>Rust’s own Jonathan Turner on his backgroun...   \n",
       "2dasvh 2017-08-08 14:25:29                                                      \n",
       "\n",
       "        downvotes                last_updated  score  \\\n",
       "09zw7r          0  2017-08-09T11:03:57.014269      3   \n",
       "0bdne7          9  2017-08-09T11:03:57.014269     -1   \n",
       "1bhbod          0  2017-05-01T06:29:11.725518     17   \n",
       "1xkje1          0  2017-05-01T06:29:11.725518      1   \n",
       "2dasvh          0  2017-08-09T11:03:56.287654     20   \n",
       "\n",
       "                      short_id_url                       tags  \\\n",
       "09zw7r  https://lobste.rs/s/09zw7r              [crypto, pdf]   \n",
       "0bdne7  https://lobste.rs/s/0bdne7             [law, privacy]   \n",
       "1bhbod  https://lobste.rs/s/1bhbod              [programming]   \n",
       "1xkje1  https://lobste.rs/s/1xkje1  [audio, javascript, rust]   \n",
       "2dasvh  https://lobste.rs/s/2dasvh                [practices]   \n",
       "\n",
       "                                             title  upvotes  \\\n",
       "09zw7r                            The Edited Truth        3   \n",
       "0bdne7      The Rise of The Social Media Vigilante        8   \n",
       "1bhbod             Tcl the misunderstood - antirez       17   \n",
       "1xkje1  🎤🎙 Interview 4 – Jonathan Turner: Part 1/3        1   \n",
       "2dasvh               The Return of the Hipster PDA       20   \n",
       "\n",
       "                                                      url  \\\n",
       "09zw7r               https://eprint.iacr.org/2017/714.pdf   \n",
       "0bdne7  https://medium.com/@nkhumphreys_89452/the-rise...   \n",
       "1bhbod  http://antirez.com/articoli/tclmisunderstood.html   \n",
       "1xkje1  http://www.newrustacean.com/show_notes/intervi...   \n",
       "2dasvh  http://www.agilesysadmin.net/return-of-the-hip...   \n",
       "\n",
       "                                               avatar_url  \\\n",
       "09zw7r              https://lobste.rs/avatars/trn-100.png   \n",
       "0bdne7      https://lobste.rs/avatars/nkhumphreys-100.png   \n",
       "1bhbod  https://secure.gravatar.com/avatar/85002353297...   \n",
       "1xkje1  https://secure.gravatar.com/avatar/c096ed07142...   \n",
       "2dasvh              https://lobste.rs/avatars/trn-100.png   \n",
       "\n",
       "                      user_created_at  is_admin     username  karma  \\\n",
       "09zw7r  2017-01-19T14:56:50.000-06:00     False          trn    429   \n",
       "0bdne7  2014-07-02T06:36:39.000-05:00     False  nkhumphreys     -1   \n",
       "1bhbod  2016-11-30T10:14:24.000-06:00     False     yumaikas    578   \n",
       "1xkje1  2016-08-15T09:33:28.000-05:00     False  chriskrycho     27   \n",
       "2dasvh  2017-01-19T14:56:50.000-06:00     False          trn    429   \n",
       "\n",
       "        is_moderator                                              about  \\\n",
       "09zw7r         False                                                      \n",
       "0bdne7         False  Web developer and previously embedded C developer   \n",
       "1bhbod         False  I blog infrequently at https://junglecoder.com...   \n",
       "1xkje1         False  I'm a husband and father; a theologian, compos...   \n",
       "2dasvh         False                                                      \n",
       "\n",
       "       github_username  \n",
       "09zw7r             NaN  \n",
       "0bdne7             NaN  \n",
       "1bhbod             NaN  \n",
       "1xkje1             NaN  \n",
       "2dasvh             NaN  "
      ]
     },
     "execution_count": 53,
     "metadata": {},
     "output_type": "execute_result"
    }
   ],
   "source": [
    "stories.head()"
   ]
  },
  {
   "cell_type": "markdown",
   "id": "87c4aa6d-e7e1-453d-9e70-3c64f20d6d52",
   "metadata": {},
   "source": [
    "#### Let's check for nulls"
   ]
  },
  {
   "cell_type": "code",
   "execution_count": 54,
   "id": "9f61f0ba-e2e7-46dd-8c3e-57771881e02f",
   "metadata": {},
   "outputs": [
    {
     "data": {
      "text/plain": [
       "(74, 20)"
      ]
     },
     "execution_count": 54,
     "metadata": {},
     "output_type": "execute_result"
    }
   ],
   "source": [
    "stories.shape"
   ]
  },
  {
   "cell_type": "code",
   "execution_count": 55,
   "id": "639be90c-bcb4-4b6c-8a36-83a60bdcdb8a",
   "metadata": {},
   "outputs": [
    {
     "data": {
      "text/plain": [
       "(8, 20)"
      ]
     },
     "execution_count": 55,
     "metadata": {},
     "output_type": "execute_result"
    }
   ],
   "source": [
    "stories.dropna().shape"
   ]
  },
  {
   "cell_type": "code",
   "execution_count": 57,
   "id": "0ca0b1ed-75f9-4797-8a0f-1cdf5d5b6dec",
   "metadata": {},
   "outputs": [
    {
     "data": {
      "text/plain": [
       "(74, 19)"
      ]
     },
     "execution_count": 57,
     "metadata": {},
     "output_type": "execute_result"
    }
   ],
   "source": [
    "stories.dropna(thresh=10, axis=1).shape"
   ]
  },
  {
   "cell_type": "markdown",
   "id": "0813a179-9aae-4539-bd2d-752411ce6442",
   "metadata": {},
   "source": [
    "#### Let's make the tags easier to use by having them as features in the columns."
   ]
  },
  {
   "cell_type": "code",
   "execution_count": 58,
   "id": "eeb63c34-cd3f-4bdf-ab92-6519a6ae028b",
   "metadata": {},
   "outputs": [],
   "source": [
    "tag_df = stories.tags.apply(pd.Series)"
   ]
  },
  {
   "cell_type": "code",
   "execution_count": 59,
   "id": "5ef1df73-afff-4a19-a136-30c5a3378e81",
   "metadata": {},
   "outputs": [
    {
     "data": {
      "text/html": [
       "<div>\n",
       "<style scoped>\n",
       "    .dataframe tbody tr th:only-of-type {\n",
       "        vertical-align: middle;\n",
       "    }\n",
       "\n",
       "    .dataframe tbody tr th {\n",
       "        vertical-align: top;\n",
       "    }\n",
       "\n",
       "    .dataframe thead th {\n",
       "        text-align: right;\n",
       "    }\n",
       "</style>\n",
       "<table border=\"1\" class=\"dataframe\">\n",
       "  <thead>\n",
       "    <tr style=\"text-align: right;\">\n",
       "      <th></th>\n",
       "      <th>0</th>\n",
       "      <th>1</th>\n",
       "      <th>2</th>\n",
       "      <th>3</th>\n",
       "      <th>4</th>\n",
       "    </tr>\n",
       "  </thead>\n",
       "  <tbody>\n",
       "    <tr>\n",
       "      <th>09zw7r</th>\n",
       "      <td>crypto</td>\n",
       "      <td>pdf</td>\n",
       "      <td>NaN</td>\n",
       "      <td>NaN</td>\n",
       "      <td>NaN</td>\n",
       "    </tr>\n",
       "    <tr>\n",
       "      <th>0bdne7</th>\n",
       "      <td>law</td>\n",
       "      <td>privacy</td>\n",
       "      <td>NaN</td>\n",
       "      <td>NaN</td>\n",
       "      <td>NaN</td>\n",
       "    </tr>\n",
       "    <tr>\n",
       "      <th>1bhbod</th>\n",
       "      <td>programming</td>\n",
       "      <td>NaN</td>\n",
       "      <td>NaN</td>\n",
       "      <td>NaN</td>\n",
       "      <td>NaN</td>\n",
       "    </tr>\n",
       "    <tr>\n",
       "      <th>1xkje1</th>\n",
       "      <td>audio</td>\n",
       "      <td>javascript</td>\n",
       "      <td>rust</td>\n",
       "      <td>NaN</td>\n",
       "      <td>NaN</td>\n",
       "    </tr>\n",
       "    <tr>\n",
       "      <th>2dasvh</th>\n",
       "      <td>practices</td>\n",
       "      <td>NaN</td>\n",
       "      <td>NaN</td>\n",
       "      <td>NaN</td>\n",
       "      <td>NaN</td>\n",
       "    </tr>\n",
       "  </tbody>\n",
       "</table>\n",
       "</div>"
      ],
      "text/plain": [
       "                  0           1     2    3    4\n",
       "09zw7r       crypto         pdf   NaN  NaN  NaN\n",
       "0bdne7          law     privacy   NaN  NaN  NaN\n",
       "1bhbod  programming         NaN   NaN  NaN  NaN\n",
       "1xkje1        audio  javascript  rust  NaN  NaN\n",
       "2dasvh    practices         NaN   NaN  NaN  NaN"
      ]
     },
     "execution_count": 59,
     "metadata": {},
     "output_type": "execute_result"
    }
   ],
   "source": [
    "tag_df.head()"
   ]
  },
  {
   "cell_type": "code",
   "execution_count": 60,
   "id": "054a5c37-306b-4f9b-ae82-356e16232acb",
   "metadata": {},
   "outputs": [
    {
     "data": {
      "text/plain": [
       "array(['crypto', 'pdf', nan, 'law', 'privacy', 'programming', 'audio',\n",
       "       'javascript', 'rust', 'practices', 'ruby', 'devops', 'web',\n",
       "       'hardware', 'science', 'reversing', 'security', 'openbsd',\n",
       "       'windows', 'design', 'compilers', 'haskell', 'c++', 'assembly',\n",
       "       'games', 'math', 'release', 'event', 'netbsd', 'unix', 'c',\n",
       "       'linux', 'testing', 'lua', 'job', 'video', 'philosophy', 'android',\n",
       "       'networking', 'erlang', 'emacs', 'historical', 'browsers',\n",
       "       'person', 'culture', 'java', 'go', 'book', 'css', 'debugging',\n",
       "       'education', 'art', 'compsci', 'databases'], dtype=object)"
      ]
     },
     "execution_count": 60,
     "metadata": {},
     "output_type": "execute_result"
    }
   ],
   "source": [
    "# what are our unique tags?\n",
    "\n",
    "pd.unique(tag_df.values.ravel())"
   ]
  },
  {
   "cell_type": "code",
   "execution_count": 61,
   "id": "cde2b97b-7507-4253-b5f2-5c716c355270",
   "metadata": {},
   "outputs": [
    {
     "data": {
      "text/plain": [
       "{'android',\n",
       " 'art',\n",
       " 'assembly',\n",
       " 'audio',\n",
       " 'book',\n",
       " 'browsers',\n",
       " 'c',\n",
       " 'c++',\n",
       " 'compilers',\n",
       " 'compsci',\n",
       " 'crypto',\n",
       " 'css',\n",
       " 'culture',\n",
       " 'databases',\n",
       " 'debugging',\n",
       " 'design',\n",
       " 'devops',\n",
       " 'education',\n",
       " 'emacs',\n",
       " 'erlang',\n",
       " 'event',\n",
       " 'games',\n",
       " 'go',\n",
       " 'hardware',\n",
       " 'haskell',\n",
       " 'historical',\n",
       " 'java',\n",
       " 'javascript',\n",
       " 'job',\n",
       " 'law',\n",
       " 'linux',\n",
       " 'lua',\n",
       " 'math',\n",
       " nan,\n",
       " 'netbsd',\n",
       " 'networking',\n",
       " 'openbsd',\n",
       " 'pdf',\n",
       " 'person',\n",
       " 'philosophy',\n",
       " 'practices',\n",
       " 'privacy',\n",
       " 'programming',\n",
       " 'release',\n",
       " 'reversing',\n",
       " 'ruby',\n",
       " 'rust',\n",
       " 'science',\n",
       " 'security',\n",
       " 'testing',\n",
       " 'unix',\n",
       " 'video',\n",
       " 'web',\n",
       " 'windows'}"
      ]
     },
     "execution_count": 61,
     "metadata": {},
     "output_type": "execute_result"
    }
   ],
   "source": [
    "set(tag_df.values.ravel())"
   ]
  },
  {
   "cell_type": "code",
   "execution_count": 62,
   "id": "b6744988-2567-4219-b942-23cd9d4622ce",
   "metadata": {},
   "outputs": [
    {
     "data": {
      "text/plain": [
       "54"
      ]
     },
     "execution_count": 62,
     "metadata": {},
     "output_type": "execute_result"
    }
   ],
   "source": [
    "len(pd.unique(tag_df.values.ravel()))"
   ]
  },
  {
   "cell_type": "code",
   "execution_count": 63,
   "id": "75ba2290-df4b-4dd2-ad07-b14f0f35b105",
   "metadata": {},
   "outputs": [
    {
     "data": {
      "text/plain": [
       "[(nan, 231),\n",
       " ('programming', 13),\n",
       " ('hardware', 10),\n",
       " ('security', 10),\n",
       " ('practices', 8)]"
      ]
     },
     "execution_count": 63,
     "metadata": {},
     "output_type": "execute_result"
    }
   ],
   "source": [
    "# most common tags\n",
    "\n",
    "Counter(tag_df.values.ravel()).most_common(5)"
   ]
  },
  {
   "cell_type": "markdown",
   "id": "eccf1b0d-48c7-4ab5-bb3c-0db0da6e7b2b",
   "metadata": {},
   "source": [
    "#### Let's create a dummy df with our tags"
   ]
  },
  {
   "cell_type": "code",
   "execution_count": 66,
   "id": "a9c116b0-3d4e-46e1-a232-2fe9074c8ef9",
   "metadata": {},
   "outputs": [
    {
     "data": {
      "text/html": [
       "<div>\n",
       "<style scoped>\n",
       "    .dataframe tbody tr th:only-of-type {\n",
       "        vertical-align: middle;\n",
       "    }\n",
       "\n",
       "    .dataframe tbody tr th {\n",
       "        vertical-align: top;\n",
       "    }\n",
       "\n",
       "    .dataframe thead th {\n",
       "        text-align: right;\n",
       "    }\n",
       "</style>\n",
       "<table border=\"1\" class=\"dataframe\">\n",
       "  <thead>\n",
       "    <tr style=\"text-align: right;\">\n",
       "      <th></th>\n",
       "      <th>0</th>\n",
       "      <th>1</th>\n",
       "      <th>2</th>\n",
       "      <th>3</th>\n",
       "      <th>4</th>\n",
       "    </tr>\n",
       "  </thead>\n",
       "  <tbody>\n",
       "    <tr>\n",
       "      <th>09zw7r</th>\n",
       "      <td>crypto</td>\n",
       "      <td>pdf</td>\n",
       "      <td>NaN</td>\n",
       "      <td>NaN</td>\n",
       "      <td>NaN</td>\n",
       "    </tr>\n",
       "    <tr>\n",
       "      <th>0bdne7</th>\n",
       "      <td>law</td>\n",
       "      <td>privacy</td>\n",
       "      <td>NaN</td>\n",
       "      <td>NaN</td>\n",
       "      <td>NaN</td>\n",
       "    </tr>\n",
       "    <tr>\n",
       "      <th>1bhbod</th>\n",
       "      <td>programming</td>\n",
       "      <td>NaN</td>\n",
       "      <td>NaN</td>\n",
       "      <td>NaN</td>\n",
       "      <td>NaN</td>\n",
       "    </tr>\n",
       "    <tr>\n",
       "      <th>1xkje1</th>\n",
       "      <td>audio</td>\n",
       "      <td>javascript</td>\n",
       "      <td>rust</td>\n",
       "      <td>NaN</td>\n",
       "      <td>NaN</td>\n",
       "    </tr>\n",
       "    <tr>\n",
       "      <th>2dasvh</th>\n",
       "      <td>practices</td>\n",
       "      <td>NaN</td>\n",
       "      <td>NaN</td>\n",
       "      <td>NaN</td>\n",
       "      <td>NaN</td>\n",
       "    </tr>\n",
       "  </tbody>\n",
       "</table>\n",
       "</div>"
      ],
      "text/plain": [
       "                  0           1     2    3    4\n",
       "09zw7r       crypto         pdf   NaN  NaN  NaN\n",
       "0bdne7          law     privacy   NaN  NaN  NaN\n",
       "1bhbod  programming         NaN   NaN  NaN  NaN\n",
       "1xkje1        audio  javascript  rust  NaN  NaN\n",
       "2dasvh    practices         NaN   NaN  NaN  NaN"
      ]
     },
     "execution_count": 66,
     "metadata": {},
     "output_type": "execute_result"
    }
   ],
   "source": [
    "tag_df.head()\n"
   ]
  },
  {
   "cell_type": "markdown",
   "id": "7943fc52-70fb-456d-a109-ad413d7489c6",
   "metadata": {},
   "source": [
    "#### Now we can add it back to our stories DataFrame"
   ]
  },
  {
   "cell_type": "code",
   "execution_count": 67,
   "id": "5d339d40-7e0b-41c2-85a7-62caa01c0f0e",
   "metadata": {},
   "outputs": [],
   "source": [
    "stories = pd.concat([stories.drop('tags', axis=1), \n",
    "                     tag_df], axis=1)"
   ]
  },
  {
   "cell_type": "code",
   "execution_count": 68,
   "id": "7afa799e-50e2-4ccd-9033-95d333f59c8b",
   "metadata": {},
   "outputs": [
    {
     "data": {
      "text/html": [
       "<div>\n",
       "<style scoped>\n",
       "    .dataframe tbody tr th:only-of-type {\n",
       "        vertical-align: middle;\n",
       "    }\n",
       "\n",
       "    .dataframe tbody tr th {\n",
       "        vertical-align: top;\n",
       "    }\n",
       "\n",
       "    .dataframe thead th {\n",
       "        text-align: right;\n",
       "    }\n",
       "</style>\n",
       "<table border=\"1\" class=\"dataframe\">\n",
       "  <thead>\n",
       "    <tr style=\"text-align: right;\">\n",
       "      <th></th>\n",
       "      <th>comment_count</th>\n",
       "      <th>comments_url</th>\n",
       "      <th>created_at</th>\n",
       "      <th>description</th>\n",
       "      <th>downvotes</th>\n",
       "      <th>last_updated</th>\n",
       "      <th>score</th>\n",
       "      <th>short_id_url</th>\n",
       "      <th>title</th>\n",
       "      <th>upvotes</th>\n",
       "      <th>...</th>\n",
       "      <th>username</th>\n",
       "      <th>karma</th>\n",
       "      <th>is_moderator</th>\n",
       "      <th>about</th>\n",
       "      <th>github_username</th>\n",
       "      <th>0</th>\n",
       "      <th>1</th>\n",
       "      <th>2</th>\n",
       "      <th>3</th>\n",
       "      <th>4</th>\n",
       "    </tr>\n",
       "  </thead>\n",
       "  <tbody>\n",
       "    <tr>\n",
       "      <th>09zw7r</th>\n",
       "      <td>0</td>\n",
       "      <td>https://lobste.rs/s/09zw7r/edited_truth</td>\n",
       "      <td>2017-08-08 20:11:09</td>\n",
       "      <td></td>\n",
       "      <td>0</td>\n",
       "      <td>2017-08-09T11:03:57.014269</td>\n",
       "      <td>3</td>\n",
       "      <td>https://lobste.rs/s/09zw7r</td>\n",
       "      <td>The Edited Truth</td>\n",
       "      <td>3</td>\n",
       "      <td>...</td>\n",
       "      <td>trn</td>\n",
       "      <td>429</td>\n",
       "      <td>False</td>\n",
       "      <td></td>\n",
       "      <td>NaN</td>\n",
       "      <td>crypto</td>\n",
       "      <td>pdf</td>\n",
       "      <td>NaN</td>\n",
       "      <td>NaN</td>\n",
       "      <td>NaN</td>\n",
       "    </tr>\n",
       "    <tr>\n",
       "      <th>0bdne7</th>\n",
       "      <td>17</td>\n",
       "      <td>https://lobste.rs/s/0bdne7/rise_social_media_v...</td>\n",
       "      <td>2017-08-08 21:12:38</td>\n",
       "      <td></td>\n",
       "      <td>9</td>\n",
       "      <td>2017-08-09T11:03:57.014269</td>\n",
       "      <td>-1</td>\n",
       "      <td>https://lobste.rs/s/0bdne7</td>\n",
       "      <td>The Rise of The Social Media Vigilante</td>\n",
       "      <td>8</td>\n",
       "      <td>...</td>\n",
       "      <td>nkhumphreys</td>\n",
       "      <td>-1</td>\n",
       "      <td>False</td>\n",
       "      <td>Web developer and previously embedded C developer</td>\n",
       "      <td>NaN</td>\n",
       "      <td>law</td>\n",
       "      <td>privacy</td>\n",
       "      <td>NaN</td>\n",
       "      <td>NaN</td>\n",
       "      <td>NaN</td>\n",
       "    </tr>\n",
       "    <tr>\n",
       "      <th>1bhbod</th>\n",
       "      <td>11</td>\n",
       "      <td>https://lobste.rs/s/1bhbod/tcl_misunderstood_a...</td>\n",
       "      <td>2017-04-30 20:28:52</td>\n",
       "      <td>&lt;p&gt;Did any language end up taking that “highly...</td>\n",
       "      <td>0</td>\n",
       "      <td>2017-05-01T06:29:11.725518</td>\n",
       "      <td>17</td>\n",
       "      <td>https://lobste.rs/s/1bhbod</td>\n",
       "      <td>Tcl the misunderstood - antirez</td>\n",
       "      <td>17</td>\n",
       "      <td>...</td>\n",
       "      <td>yumaikas</td>\n",
       "      <td>578</td>\n",
       "      <td>False</td>\n",
       "      <td>I blog infrequently at https://junglecoder.com...</td>\n",
       "      <td>NaN</td>\n",
       "      <td>programming</td>\n",
       "      <td>NaN</td>\n",
       "      <td>NaN</td>\n",
       "      <td>NaN</td>\n",
       "      <td>NaN</td>\n",
       "    </tr>\n",
       "    <tr>\n",
       "      <th>1xkje1</th>\n",
       "      <td>0</td>\n",
       "      <td>https://lobste.rs/s/1xkje1/interview_4_jonatha...</td>\n",
       "      <td>2017-05-01 02:31:35</td>\n",
       "      <td>&lt;p&gt;Rust’s own Jonathan Turner on his backgroun...</td>\n",
       "      <td>0</td>\n",
       "      <td>2017-05-01T06:29:11.725518</td>\n",
       "      <td>1</td>\n",
       "      <td>https://lobste.rs/s/1xkje1</td>\n",
       "      <td>🎤🎙 Interview 4 – Jonathan Turner: Part 1/3</td>\n",
       "      <td>1</td>\n",
       "      <td>...</td>\n",
       "      <td>chriskrycho</td>\n",
       "      <td>27</td>\n",
       "      <td>False</td>\n",
       "      <td>I'm a husband and father; a theologian, compos...</td>\n",
       "      <td>NaN</td>\n",
       "      <td>audio</td>\n",
       "      <td>javascript</td>\n",
       "      <td>rust</td>\n",
       "      <td>NaN</td>\n",
       "      <td>NaN</td>\n",
       "    </tr>\n",
       "    <tr>\n",
       "      <th>2dasvh</th>\n",
       "      <td>19</td>\n",
       "      <td>https://lobste.rs/s/2dasvh/return_hipster_pda</td>\n",
       "      <td>2017-08-08 14:25:29</td>\n",
       "      <td></td>\n",
       "      <td>0</td>\n",
       "      <td>2017-08-09T11:03:56.287654</td>\n",
       "      <td>20</td>\n",
       "      <td>https://lobste.rs/s/2dasvh</td>\n",
       "      <td>The Return of the Hipster PDA</td>\n",
       "      <td>20</td>\n",
       "      <td>...</td>\n",
       "      <td>trn</td>\n",
       "      <td>429</td>\n",
       "      <td>False</td>\n",
       "      <td></td>\n",
       "      <td>NaN</td>\n",
       "      <td>practices</td>\n",
       "      <td>NaN</td>\n",
       "      <td>NaN</td>\n",
       "      <td>NaN</td>\n",
       "      <td>NaN</td>\n",
       "    </tr>\n",
       "  </tbody>\n",
       "</table>\n",
       "<p>5 rows × 24 columns</p>\n",
       "</div>"
      ],
      "text/plain": [
       "        comment_count                                       comments_url  \\\n",
       "09zw7r              0            https://lobste.rs/s/09zw7r/edited_truth   \n",
       "0bdne7             17  https://lobste.rs/s/0bdne7/rise_social_media_v...   \n",
       "1bhbod             11  https://lobste.rs/s/1bhbod/tcl_misunderstood_a...   \n",
       "1xkje1              0  https://lobste.rs/s/1xkje1/interview_4_jonatha...   \n",
       "2dasvh             19      https://lobste.rs/s/2dasvh/return_hipster_pda   \n",
       "\n",
       "                created_at                                        description  \\\n",
       "09zw7r 2017-08-08 20:11:09                                                      \n",
       "0bdne7 2017-08-08 21:12:38                                                      \n",
       "1bhbod 2017-04-30 20:28:52  <p>Did any language end up taking that “highly...   \n",
       "1xkje1 2017-05-01 02:31:35  <p>Rust’s own Jonathan Turner on his backgroun...   \n",
       "2dasvh 2017-08-08 14:25:29                                                      \n",
       "\n",
       "        downvotes                last_updated  score  \\\n",
       "09zw7r          0  2017-08-09T11:03:57.014269      3   \n",
       "0bdne7          9  2017-08-09T11:03:57.014269     -1   \n",
       "1bhbod          0  2017-05-01T06:29:11.725518     17   \n",
       "1xkje1          0  2017-05-01T06:29:11.725518      1   \n",
       "2dasvh          0  2017-08-09T11:03:56.287654     20   \n",
       "\n",
       "                      short_id_url  \\\n",
       "09zw7r  https://lobste.rs/s/09zw7r   \n",
       "0bdne7  https://lobste.rs/s/0bdne7   \n",
       "1bhbod  https://lobste.rs/s/1bhbod   \n",
       "1xkje1  https://lobste.rs/s/1xkje1   \n",
       "2dasvh  https://lobste.rs/s/2dasvh   \n",
       "\n",
       "                                             title  upvotes  ...     username  \\\n",
       "09zw7r                            The Edited Truth        3  ...          trn   \n",
       "0bdne7      The Rise of The Social Media Vigilante        8  ...  nkhumphreys   \n",
       "1bhbod             Tcl the misunderstood - antirez       17  ...     yumaikas   \n",
       "1xkje1  🎤🎙 Interview 4 – Jonathan Turner: Part 1/3        1  ...  chriskrycho   \n",
       "2dasvh               The Return of the Hipster PDA       20  ...          trn   \n",
       "\n",
       "       karma is_moderator                                              about  \\\n",
       "09zw7r   429        False                                                      \n",
       "0bdne7    -1        False  Web developer and previously embedded C developer   \n",
       "1bhbod   578        False  I blog infrequently at https://junglecoder.com...   \n",
       "1xkje1    27        False  I'm a husband and father; a theologian, compos...   \n",
       "2dasvh   429        False                                                      \n",
       "\n",
       "       github_username            0           1     2    3    4  \n",
       "09zw7r             NaN       crypto         pdf   NaN  NaN  NaN  \n",
       "0bdne7             NaN          law     privacy   NaN  NaN  NaN  \n",
       "1bhbod             NaN  programming         NaN   NaN  NaN  NaN  \n",
       "1xkje1             NaN        audio  javascript  rust  NaN  NaN  \n",
       "2dasvh             NaN    practices         NaN   NaN  NaN  NaN  \n",
       "\n",
       "[5 rows x 24 columns]"
      ]
     },
     "execution_count": 68,
     "metadata": {},
     "output_type": "execute_result"
    }
   ],
   "source": [
    "stories.head()"
   ]
  },
  {
   "cell_type": "markdown",
   "id": "124b1396-c304-4f04-b7eb-3221d82d27b7",
   "metadata": {},
   "source": [
    "#### Another potentially useful feature is the post times..."
   ]
  },
  {
   "cell_type": "code",
   "execution_count": 70,
   "id": "02b8eef4-0e8c-4af6-8e8d-ede466534591",
   "metadata": {},
   "outputs": [],
   "source": [
    "stories['created_hour'] = stories.created_at.map(\n",
    "    lambda x: x.hour)"
   ]
  },
  {
   "cell_type": "code",
   "execution_count": 71,
   "id": "b59cd151-290e-44ce-a217-6834f0ee5182",
   "metadata": {},
   "outputs": [],
   "source": [
    "stories['created_dow'] = stories.created_at.map(\n",
    "    lambda x: x.weekday())"
   ]
  },
  {
   "cell_type": "markdown",
   "id": "d9d33b5b-9507-4367-b918-f97c495089c8",
   "metadata": {},
   "source": [
    "#### Let's analyze some of the correlations in our features so far..."
   ]
  },
  {
   "cell_type": "code",
   "execution_count": 72,
   "id": "1eb85e03-dd7c-4393-887e-3270f71d8e6d",
   "metadata": {},
   "outputs": [
    {
     "data": {
      "text/html": [
       "<div>\n",
       "<style scoped>\n",
       "    .dataframe tbody tr th:only-of-type {\n",
       "        vertical-align: middle;\n",
       "    }\n",
       "\n",
       "    .dataframe tbody tr th {\n",
       "        vertical-align: top;\n",
       "    }\n",
       "\n",
       "    .dataframe thead th {\n",
       "        text-align: right;\n",
       "    }\n",
       "</style>\n",
       "<table border=\"1\" class=\"dataframe\">\n",
       "  <thead>\n",
       "    <tr style=\"text-align: right;\">\n",
       "      <th></th>\n",
       "      <th>created_hour</th>\n",
       "      <th>score</th>\n",
       "    </tr>\n",
       "  </thead>\n",
       "  <tbody>\n",
       "    <tr>\n",
       "      <th>created_hour</th>\n",
       "      <td>1.000000</td>\n",
       "      <td>0.253917</td>\n",
       "    </tr>\n",
       "    <tr>\n",
       "      <th>score</th>\n",
       "      <td>0.253917</td>\n",
       "      <td>1.000000</td>\n",
       "    </tr>\n",
       "  </tbody>\n",
       "</table>\n",
       "</div>"
      ],
      "text/plain": [
       "              created_hour     score\n",
       "created_hour      1.000000  0.253917\n",
       "score             0.253917  1.000000"
      ]
     },
     "execution_count": 72,
     "metadata": {},
     "output_type": "execute_result"
    }
   ],
   "source": [
    "stories[['created_hour', 'score']].corr()"
   ]
  },
  {
   "cell_type": "code",
   "execution_count": null,
   "id": "44e353cb-3129-4b70-8dca-a6a3d4f1a570",
   "metadata": {},
   "outputs": [],
   "source": [
    "stories[['created_dow', 'score']].corr()"
   ]
  },
  {
   "cell_type": "code",
   "execution_count": 74,
   "id": "7f2a5e4b-543b-44b0-b5d0-51dfadeb2190",
   "metadata": {},
   "outputs": [
    {
     "data": {
      "text/html": [
       "<div>\n",
       "<style scoped>\n",
       "    .dataframe tbody tr th:only-of-type {\n",
       "        vertical-align: middle;\n",
       "    }\n",
       "\n",
       "    .dataframe tbody tr th {\n",
       "        vertical-align: top;\n",
       "    }\n",
       "\n",
       "    .dataframe thead th {\n",
       "        text-align: right;\n",
       "    }\n",
       "</style>\n",
       "<table border=\"1\" class=\"dataframe\">\n",
       "  <thead>\n",
       "    <tr style=\"text-align: right;\">\n",
       "      <th></th>\n",
       "      <th>karma</th>\n",
       "      <th>score</th>\n",
       "    </tr>\n",
       "  </thead>\n",
       "  <tbody>\n",
       "    <tr>\n",
       "      <th>karma</th>\n",
       "      <td>1.000000</td>\n",
       "      <td>-0.061921</td>\n",
       "    </tr>\n",
       "    <tr>\n",
       "      <th>score</th>\n",
       "      <td>-0.061921</td>\n",
       "      <td>1.000000</td>\n",
       "    </tr>\n",
       "  </tbody>\n",
       "</table>\n",
       "</div>"
      ],
      "text/plain": [
       "          karma     score\n",
       "karma  1.000000 -0.061921\n",
       "score -0.061921  1.000000"
      ]
     },
     "execution_count": 74,
     "metadata": {},
     "output_type": "execute_result"
    }
   ],
   "source": [
    "stories[['karma', 'score']].corr()"
   ]
  },
  {
   "cell_type": "code",
   "execution_count": 75,
   "id": "ebbe56c6-665c-4b83-aed5-ce20a7279aa9",
   "metadata": {},
   "outputs": [
    {
     "data": {
      "text/html": [
       "<div>\n",
       "<style scoped>\n",
       "    .dataframe tbody tr th:only-of-type {\n",
       "        vertical-align: middle;\n",
       "    }\n",
       "\n",
       "    .dataframe tbody tr th {\n",
       "        vertical-align: top;\n",
       "    }\n",
       "\n",
       "    .dataframe thead th {\n",
       "        text-align: right;\n",
       "    }\n",
       "</style>\n",
       "<table border=\"1\" class=\"dataframe\">\n",
       "  <thead>\n",
       "    <tr style=\"text-align: right;\">\n",
       "      <th></th>\n",
       "      <th>comment_count</th>\n",
       "      <th>score</th>\n",
       "    </tr>\n",
       "  </thead>\n",
       "  <tbody>\n",
       "    <tr>\n",
       "      <th>comment_count</th>\n",
       "      <td>1.000000</td>\n",
       "      <td>0.637632</td>\n",
       "    </tr>\n",
       "    <tr>\n",
       "      <th>score</th>\n",
       "      <td>0.637632</td>\n",
       "      <td>1.000000</td>\n",
       "    </tr>\n",
       "  </tbody>\n",
       "</table>\n",
       "</div>"
      ],
      "text/plain": [
       "               comment_count     score\n",
       "comment_count       1.000000  0.637632\n",
       "score               0.637632  1.000000"
      ]
     },
     "execution_count": 75,
     "metadata": {},
     "output_type": "execute_result"
    }
   ],
   "source": [
    "stories[['comment_count', 'score']].corr()"
   ]
  },
  {
   "cell_type": "markdown",
   "id": "eef55a0d-9dc7-4cd1-be42-ac67affc3dc0",
   "metadata": {},
   "source": [
    "#### We might also want/need to normalize scores. We can use a Scaler / MinMaxScaler or Normalizer"
   ]
  },
  {
   "cell_type": "code",
   "execution_count": 77,
   "id": "c81b08b0-4d58-44dc-8c4a-258896a0dd76",
   "metadata": {},
   "outputs": [],
   "source": [
    "normed_score = preprocessing.normalize(stories[['score']])"
   ]
  },
  {
   "cell_type": "code",
   "execution_count": 78,
   "id": "02b50d8a-4299-460c-ba07-e40be38fb092",
   "metadata": {},
   "outputs": [
    {
     "data": {
      "text/plain": [
       "array([[ 1.],\n",
       "       [-1.],\n",
       "       [ 1.],\n",
       "       [ 1.],\n",
       "       [ 1.]])"
      ]
     },
     "execution_count": 78,
     "metadata": {},
     "output_type": "execute_result"
    }
   ],
   "source": [
    "normed_score[:5]"
   ]
  },
  {
   "cell_type": "markdown",
   "id": "9a227200-d9c9-40fa-bb25-c0599fdbf9c8",
   "metadata": {},
   "source": [
    "#### hmm... maybe a min-max scaler works better for our needs!"
   ]
  },
  {
   "cell_type": "code",
   "execution_count": 79,
   "id": "8e9b93ec-fbf4-405c-9cad-68803170b8ec",
   "metadata": {},
   "outputs": [],
   "source": [
    "scaler = preprocessing.MinMaxScaler()"
   ]
  },
  {
   "cell_type": "code",
   "execution_count": 80,
   "id": "c3f57875-376d-4c5a-a1dc-ccc5a683e28d",
   "metadata": {},
   "outputs": [],
   "source": [
    "scaled_score = scaler.fit_transform(stories[['score']])"
   ]
  },
  {
   "cell_type": "code",
   "execution_count": 81,
   "id": "b0ba9ad8-603e-48b4-bedd-ba8fefa4a158",
   "metadata": {},
   "outputs": [
    {
     "data": {
      "text/plain": [
       "array([[0.07272727],\n",
       "       [0.        ],\n",
       "       [0.32727273],\n",
       "       [0.03636364],\n",
       "       [0.38181818]])"
      ]
     },
     "execution_count": 81,
     "metadata": {},
     "output_type": "execute_result"
    }
   ],
   "source": [
    "scaled_score[:5]"
   ]
  },
  {
   "cell_type": "code",
   "execution_count": 91,
   "id": "160576ef-fe7b-472d-960a-c6eaa8fb1920",
   "metadata": {},
   "outputs": [],
   "source": [
    "stories['scaled_score'] = scaled_score[:,0]"
   ]
  },
  {
   "cell_type": "code",
   "execution_count": 95,
   "id": "ca733ef0-c4dd-4ec7-a22e-60e2ffe42dba",
   "metadata": {},
   "outputs": [
    {
     "data": {
      "text/html": [
       "<div>\n",
       "<style scoped>\n",
       "    .dataframe tbody tr th:only-of-type {\n",
       "        vertical-align: middle;\n",
       "    }\n",
       "\n",
       "    .dataframe tbody tr th {\n",
       "        vertical-align: top;\n",
       "    }\n",
       "\n",
       "    .dataframe thead th {\n",
       "        text-align: right;\n",
       "    }\n",
       "</style>\n",
       "<table border=\"1\" class=\"dataframe\">\n",
       "  <thead>\n",
       "    <tr style=\"text-align: right;\">\n",
       "      <th></th>\n",
       "      <th>comment_count</th>\n",
       "      <th>comments_url</th>\n",
       "      <th>created_at</th>\n",
       "      <th>description</th>\n",
       "      <th>downvotes</th>\n",
       "      <th>last_updated</th>\n",
       "      <th>score</th>\n",
       "      <th>short_id_url</th>\n",
       "      <th>title</th>\n",
       "      <th>upvotes</th>\n",
       "      <th>...</th>\n",
       "      <th>about</th>\n",
       "      <th>github_username</th>\n",
       "      <th>0</th>\n",
       "      <th>1</th>\n",
       "      <th>2</th>\n",
       "      <th>3</th>\n",
       "      <th>4</th>\n",
       "      <th>created_hour</th>\n",
       "      <th>created_dow</th>\n",
       "      <th>scaled_score</th>\n",
       "    </tr>\n",
       "  </thead>\n",
       "  <tbody>\n",
       "    <tr>\n",
       "      <th>09zw7r</th>\n",
       "      <td>0</td>\n",
       "      <td>https://lobste.rs/s/09zw7r/edited_truth</td>\n",
       "      <td>2017-08-08 20:11:09</td>\n",
       "      <td></td>\n",
       "      <td>0</td>\n",
       "      <td>2017-08-09T11:03:57.014269</td>\n",
       "      <td>3</td>\n",
       "      <td>https://lobste.rs/s/09zw7r</td>\n",
       "      <td>The Edited Truth</td>\n",
       "      <td>3</td>\n",
       "      <td>...</td>\n",
       "      <td></td>\n",
       "      <td>NaN</td>\n",
       "      <td>crypto</td>\n",
       "      <td>pdf</td>\n",
       "      <td>NaN</td>\n",
       "      <td>NaN</td>\n",
       "      <td>NaN</td>\n",
       "      <td>20</td>\n",
       "      <td>1</td>\n",
       "      <td>0.072727</td>\n",
       "    </tr>\n",
       "    <tr>\n",
       "      <th>0bdne7</th>\n",
       "      <td>17</td>\n",
       "      <td>https://lobste.rs/s/0bdne7/rise_social_media_v...</td>\n",
       "      <td>2017-08-08 21:12:38</td>\n",
       "      <td></td>\n",
       "      <td>9</td>\n",
       "      <td>2017-08-09T11:03:57.014269</td>\n",
       "      <td>-1</td>\n",
       "      <td>https://lobste.rs/s/0bdne7</td>\n",
       "      <td>The Rise of The Social Media Vigilante</td>\n",
       "      <td>8</td>\n",
       "      <td>...</td>\n",
       "      <td>Web developer and previously embedded C developer</td>\n",
       "      <td>NaN</td>\n",
       "      <td>law</td>\n",
       "      <td>privacy</td>\n",
       "      <td>NaN</td>\n",
       "      <td>NaN</td>\n",
       "      <td>NaN</td>\n",
       "      <td>21</td>\n",
       "      <td>1</td>\n",
       "      <td>0.000000</td>\n",
       "    </tr>\n",
       "    <tr>\n",
       "      <th>1bhbod</th>\n",
       "      <td>11</td>\n",
       "      <td>https://lobste.rs/s/1bhbod/tcl_misunderstood_a...</td>\n",
       "      <td>2017-04-30 20:28:52</td>\n",
       "      <td>&lt;p&gt;Did any language end up taking that “highly...</td>\n",
       "      <td>0</td>\n",
       "      <td>2017-05-01T06:29:11.725518</td>\n",
       "      <td>17</td>\n",
       "      <td>https://lobste.rs/s/1bhbod</td>\n",
       "      <td>Tcl the misunderstood - antirez</td>\n",
       "      <td>17</td>\n",
       "      <td>...</td>\n",
       "      <td>I blog infrequently at https://junglecoder.com...</td>\n",
       "      <td>NaN</td>\n",
       "      <td>programming</td>\n",
       "      <td>NaN</td>\n",
       "      <td>NaN</td>\n",
       "      <td>NaN</td>\n",
       "      <td>NaN</td>\n",
       "      <td>20</td>\n",
       "      <td>6</td>\n",
       "      <td>0.327273</td>\n",
       "    </tr>\n",
       "    <tr>\n",
       "      <th>1xkje1</th>\n",
       "      <td>0</td>\n",
       "      <td>https://lobste.rs/s/1xkje1/interview_4_jonatha...</td>\n",
       "      <td>2017-05-01 02:31:35</td>\n",
       "      <td>&lt;p&gt;Rust’s own Jonathan Turner on his backgroun...</td>\n",
       "      <td>0</td>\n",
       "      <td>2017-05-01T06:29:11.725518</td>\n",
       "      <td>1</td>\n",
       "      <td>https://lobste.rs/s/1xkje1</td>\n",
       "      <td>🎤🎙 Interview 4 – Jonathan Turner: Part 1/3</td>\n",
       "      <td>1</td>\n",
       "      <td>...</td>\n",
       "      <td>I'm a husband and father; a theologian, compos...</td>\n",
       "      <td>NaN</td>\n",
       "      <td>audio</td>\n",
       "      <td>javascript</td>\n",
       "      <td>rust</td>\n",
       "      <td>NaN</td>\n",
       "      <td>NaN</td>\n",
       "      <td>2</td>\n",
       "      <td>0</td>\n",
       "      <td>0.036364</td>\n",
       "    </tr>\n",
       "    <tr>\n",
       "      <th>2dasvh</th>\n",
       "      <td>19</td>\n",
       "      <td>https://lobste.rs/s/2dasvh/return_hipster_pda</td>\n",
       "      <td>2017-08-08 14:25:29</td>\n",
       "      <td></td>\n",
       "      <td>0</td>\n",
       "      <td>2017-08-09T11:03:56.287654</td>\n",
       "      <td>20</td>\n",
       "      <td>https://lobste.rs/s/2dasvh</td>\n",
       "      <td>The Return of the Hipster PDA</td>\n",
       "      <td>20</td>\n",
       "      <td>...</td>\n",
       "      <td></td>\n",
       "      <td>NaN</td>\n",
       "      <td>practices</td>\n",
       "      <td>NaN</td>\n",
       "      <td>NaN</td>\n",
       "      <td>NaN</td>\n",
       "      <td>NaN</td>\n",
       "      <td>14</td>\n",
       "      <td>1</td>\n",
       "      <td>0.381818</td>\n",
       "    </tr>\n",
       "  </tbody>\n",
       "</table>\n",
       "<p>5 rows × 27 columns</p>\n",
       "</div>"
      ],
      "text/plain": [
       "        comment_count                                       comments_url  \\\n",
       "09zw7r              0            https://lobste.rs/s/09zw7r/edited_truth   \n",
       "0bdne7             17  https://lobste.rs/s/0bdne7/rise_social_media_v...   \n",
       "1bhbod             11  https://lobste.rs/s/1bhbod/tcl_misunderstood_a...   \n",
       "1xkje1              0  https://lobste.rs/s/1xkje1/interview_4_jonatha...   \n",
       "2dasvh             19      https://lobste.rs/s/2dasvh/return_hipster_pda   \n",
       "\n",
       "                created_at                                        description  \\\n",
       "09zw7r 2017-08-08 20:11:09                                                      \n",
       "0bdne7 2017-08-08 21:12:38                                                      \n",
       "1bhbod 2017-04-30 20:28:52  <p>Did any language end up taking that “highly...   \n",
       "1xkje1 2017-05-01 02:31:35  <p>Rust’s own Jonathan Turner on his backgroun...   \n",
       "2dasvh 2017-08-08 14:25:29                                                      \n",
       "\n",
       "        downvotes                last_updated  score  \\\n",
       "09zw7r          0  2017-08-09T11:03:57.014269      3   \n",
       "0bdne7          9  2017-08-09T11:03:57.014269     -1   \n",
       "1bhbod          0  2017-05-01T06:29:11.725518     17   \n",
       "1xkje1          0  2017-05-01T06:29:11.725518      1   \n",
       "2dasvh          0  2017-08-09T11:03:56.287654     20   \n",
       "\n",
       "                      short_id_url  \\\n",
       "09zw7r  https://lobste.rs/s/09zw7r   \n",
       "0bdne7  https://lobste.rs/s/0bdne7   \n",
       "1bhbod  https://lobste.rs/s/1bhbod   \n",
       "1xkje1  https://lobste.rs/s/1xkje1   \n",
       "2dasvh  https://lobste.rs/s/2dasvh   \n",
       "\n",
       "                                             title  upvotes  ...  \\\n",
       "09zw7r                            The Edited Truth        3  ...   \n",
       "0bdne7      The Rise of The Social Media Vigilante        8  ...   \n",
       "1bhbod             Tcl the misunderstood - antirez       17  ...   \n",
       "1xkje1  🎤🎙 Interview 4 – Jonathan Turner: Part 1/3        1  ...   \n",
       "2dasvh               The Return of the Hipster PDA       20  ...   \n",
       "\n",
       "                                                    about github_username  \\\n",
       "09zw7r                                                                NaN   \n",
       "0bdne7  Web developer and previously embedded C developer             NaN   \n",
       "1bhbod  I blog infrequently at https://junglecoder.com...             NaN   \n",
       "1xkje1  I'm a husband and father; a theologian, compos...             NaN   \n",
       "2dasvh                                                                NaN   \n",
       "\n",
       "                  0           1     2    3    4 created_hour created_dow  \\\n",
       "09zw7r       crypto         pdf   NaN  NaN  NaN           20           1   \n",
       "0bdne7          law     privacy   NaN  NaN  NaN           21           1   \n",
       "1bhbod  programming         NaN   NaN  NaN  NaN           20           6   \n",
       "1xkje1        audio  javascript  rust  NaN  NaN            2           0   \n",
       "2dasvh    practices         NaN   NaN  NaN  NaN           14           1   \n",
       "\n",
       "       scaled_score  \n",
       "09zw7r     0.072727  \n",
       "0bdne7     0.000000  \n",
       "1bhbod     0.327273  \n",
       "1xkje1     0.036364  \n",
       "2dasvh     0.381818  \n",
       "\n",
       "[5 rows x 27 columns]"
      ]
     },
     "execution_count": 95,
     "metadata": {},
     "output_type": "execute_result"
    }
   ],
   "source": [
    "stories.head()"
   ]
  },
  {
   "cell_type": "code",
   "execution_count": null,
   "id": "9d42f186-6ee8-4660-978a-900a95fbd204",
   "metadata": {},
   "outputs": [],
   "source": []
  }
 ],
 "metadata": {
  "kernelspec": {
   "display_name": "Python 3 (ipykernel)",
   "language": "python",
   "name": "python3"
  },
  "language_info": {
   "codemirror_mode": {
    "name": "ipython",
    "version": 3
   },
   "file_extension": ".py",
   "mimetype": "text/x-python",
   "name": "python",
   "nbconvert_exporter": "python",
   "pygments_lexer": "ipython3",
   "version": "3.11.2"
  }
 },
 "nbformat": 4,
 "nbformat_minor": 5
}
